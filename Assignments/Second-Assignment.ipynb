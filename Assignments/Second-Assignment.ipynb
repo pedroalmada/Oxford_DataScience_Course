{
 "cells": [
  {
   "cell_type": "markdown",
   "metadata": {},
   "source": [
    "# Second Assignment: World Progress"
   ]
  },
  {
   "cell_type": "markdown",
   "metadata": {},
   "source": [
    "In this project, you'll explore data from [Gapminder.org](http://gapminder.org), a website dedicated to providing a fact-based view of the world and how it has changed. That site includes several data visualizations and presentations, but also publishes the raw data that we will use in this project to recreate and extend some of their most famous visualizations.\n",
    "\n",
    "The Gapminder website collects data from many sources and compiles them into tables that describe many countries around the world. All of the data they aggregate are published in the [Systema Globalis](https://github.com/open-numbers/ddf--gapminder--systema_globalis/blob/master/README.md). Their goal is \"to compile all public statistics; Social, Economic and Environmental; into a comparable total dataset.\" All data sets in this project are copied directly from the Systema Globalis without any changes.\n",
    "\n",
    "This project is dedicated to [Hans Rosling](https://en.wikipedia.org/wiki/Hans_Rosling) (1948-2017), who championed the use of data to understand and prioritize global development challenges.\n",
    "\n",
    "### Logistics\n",
    "\n",
    "The first assignment was worth 35 points. This second assignment contains 13 questions - each correct answer will be worth 5 points, for a total of 65 points. In order to pass overall you will need to reach at least 40 points out of 100 from the two assignments.\n",
    "\n",
    "**Advice:** Develop your answers incrementally. To perform a complicated table manipulation, break it up into steps, perform each step on a different line, give a new name to each result, and check that each intermediate result is what you expect. You can add any additional names or functions you want to the provided cells. \n",
    "\n",
    "**Submission:** Please send your solutions to the Weekly Classes Office (weeklyclasses@conted.ox.ac.uk) with a signed DoA (Declaration of Authorship) form. Please send the notebook with your name appended to the file name.\n",
    "\n",
    "**Deadline: Please see Canvas**\n",
    "\n",
    "To get started, load `pandas`, `numpy`, and `matplotlib`."
   ]
  },
  {
   "cell_type": "code",
   "execution_count": 1,
   "metadata": {},
   "outputs": [],
   "source": [
    "import pandas as pd\n",
    "import numpy as np\n",
    "%matplotlib inline\n",
    "import matplotlib.pyplot as plots"
   ]
  },
  {
   "cell_type": "markdown",
   "metadata": {
    "deletable": false,
    "editable": false
   },
   "source": [
    "## 1. Global Population Growth\n"
   ]
  },
  {
   "cell_type": "markdown",
   "metadata": {
    "deletable": false,
    "editable": false
   },
   "source": [
    "The global population of humans reached 1 billion around 1800, 3 billion around 1960, and 7 billion around 2011. The potential impact of exponential population growth has concerned scientists, economists, and politicians alike.\n",
    "\n",
    "The UN Population Division estimates that the world population will likely continue to grow throughout the 21st century, but at a slower rate, perhaps reaching 11 billion by 2100. However, the UN does not rule out scenarios of more extreme growth.\n",
    "\n",
    "<a href=\"http://www.pewresearch.org/fact-tank/2015/06/08/scientists-more-worried-than-public-about-worlds-growing-population/ft_15-06-04_popcount/\"> \n",
    " <img src=\"https://www.pewresearch.org/wp-content/uploads/2015/06/fT_15.06.04_popCount.png\"/> \n",
    "</a>\n",
    "\n",
    "In this section, we will examine some of the factors that influence population growth and how they are changing around the world."
   ]
  },
  {
   "cell_type": "markdown",
   "metadata": {
    "deletable": false,
    "editable": false
   },
   "source": [
    "The first table we will consider is the total population of each country over time. Run the cell below."
   ]
  },
  {
   "cell_type": "code",
   "execution_count": 11,
   "metadata": {
    "deletable": false
   },
   "outputs": [
    {
     "data": {
      "text/html": [
       "<div>\n",
       "<style scoped>\n",
       "    .dataframe tbody tr th:only-of-type {\n",
       "        vertical-align: middle;\n",
       "    }\n",
       "\n",
       "    .dataframe tbody tr th {\n",
       "        vertical-align: top;\n",
       "    }\n",
       "\n",
       "    .dataframe thead th {\n",
       "        text-align: right;\n",
       "    }\n",
       "</style>\n",
       "<table border=\"1\" class=\"dataframe\">\n",
       "  <thead>\n",
       "    <tr style=\"text-align: right;\">\n",
       "      <th></th>\n",
       "      <th>geo</th>\n",
       "      <th>time</th>\n",
       "      <th>population_total</th>\n",
       "    </tr>\n",
       "  </thead>\n",
       "  <tbody>\n",
       "    <tr>\n",
       "      <th>0</th>\n",
       "      <td>abw</td>\n",
       "      <td>1800</td>\n",
       "      <td>19286</td>\n",
       "    </tr>\n",
       "    <tr>\n",
       "      <th>1</th>\n",
       "      <td>abw</td>\n",
       "      <td>1801</td>\n",
       "      <td>19286</td>\n",
       "    </tr>\n",
       "    <tr>\n",
       "      <th>2</th>\n",
       "      <td>abw</td>\n",
       "      <td>1802</td>\n",
       "      <td>19286</td>\n",
       "    </tr>\n",
       "  </tbody>\n",
       "</table>\n",
       "</div>"
      ],
      "text/plain": [
       "   geo  time  population_total\n",
       "0  abw  1800             19286\n",
       "1  abw  1801             19286\n",
       "2  abw  1802             19286"
      ]
     },
     "execution_count": 11,
     "metadata": {},
     "output_type": "execute_result"
    }
   ],
   "source": [
    "# The population.csv file should also be found online here:\n",
    "# https://github.com/open-numbers/ddf--gapminder--systema_globalis/raw/master/ddf--datapoints--population_total--by--geo--time.csv\n",
    "# The version in this project was downloaded in February, 2017.\n",
    "population = pd.read_csv('../datasets/population.csv')\n",
    "population.head(3)"
   ]
  },
  {
   "cell_type": "markdown",
   "metadata": {
    "deletable": false,
    "editable": false
   },
   "source": [
    "### Bangladesh\n",
    "\n",
    "In the `population` table, the `geo` column contains three-letter codes established by the [International Organization for Standardization](https://en.wikipedia.org/wiki/International_Organization_for_Standardization) (ISO) in the [Alpha-3](https://en.wikipedia.org/wiki/ISO_3166-1_alpha-3#Current_codes) standard. We will begin by taking a close look at Bangladesh. Inspect the standard to find the 3-letter code for Bangladesh."
   ]
  },
  {
   "cell_type": "markdown",
   "metadata": {
    "deletable": false,
    "editable": false
   },
   "source": [
    "**Question 1.** Create a `DataFrame` called `b_pop` that has two columns labeled `time` and `population_total`. The first column should contain the years from 1970 through 2015 (including both 1970 and 2015) and the second should contain the population of Bangladesh in each of those years."
   ]
  },
  {
   "cell_type": "code",
   "execution_count": 14,
   "metadata": {
    "deletable": false
   },
   "outputs": [
    {
     "data": {
      "text/html": [
       "<div>\n",
       "<style scoped>\n",
       "    .dataframe tbody tr th:only-of-type {\n",
       "        vertical-align: middle;\n",
       "    }\n",
       "\n",
       "    .dataframe tbody tr th {\n",
       "        vertical-align: top;\n",
       "    }\n",
       "\n",
       "    .dataframe thead th {\n",
       "        text-align: right;\n",
       "    }\n",
       "</style>\n",
       "<table border=\"1\" class=\"dataframe\">\n",
       "  <thead>\n",
       "    <tr style=\"text-align: right;\">\n",
       "      <th></th>\n",
       "      <th>time</th>\n",
       "      <th>population_total</th>\n",
       "    </tr>\n",
       "  </thead>\n",
       "  <tbody>\n",
       "    <tr>\n",
       "      <th>7509</th>\n",
       "      <td>1970</td>\n",
       "      <td>65048701</td>\n",
       "    </tr>\n",
       "    <tr>\n",
       "      <th>7510</th>\n",
       "      <td>1971</td>\n",
       "      <td>66417450</td>\n",
       "    </tr>\n",
       "    <tr>\n",
       "      <th>7511</th>\n",
       "      <td>1972</td>\n",
       "      <td>67578486</td>\n",
       "    </tr>\n",
       "    <tr>\n",
       "      <th>7512</th>\n",
       "      <td>1973</td>\n",
       "      <td>68658472</td>\n",
       "    </tr>\n",
       "    <tr>\n",
       "      <th>7513</th>\n",
       "      <td>1974</td>\n",
       "      <td>69837960</td>\n",
       "    </tr>\n",
       "  </tbody>\n",
       "</table>\n",
       "</div>"
      ],
      "text/plain": [
       "      time  population_total\n",
       "7509  1970          65048701\n",
       "7510  1971          66417450\n",
       "7511  1972          67578486\n",
       "7512  1973          68658472\n",
       "7513  1974          69837960"
      ]
     },
     "execution_count": 14,
     "metadata": {},
     "output_type": "execute_result"
    }
   ],
   "source": [
    "# Step 1: Filter for Bangladesh using its 3-letter code 'BGD'\n",
    "#I made the mistake of assuming the three-letter coded were in uppercase, and overlookeds the display of the three firest collums above. I then oppened the csv and realized the mistake. \n",
    "b_pop = population[population['geo'] == 'bgd']\n",
    "\n",
    "# Step 2: filtering the rows where 'time' is between 1970 and 2015\n",
    "b_pop = b_pop[(b_pop['time'] >= 1970) & (b_pop['time'] <= 2015)]\n",
    "\n",
    "# Step 3: Keeping only the 'time' and 'population_total' columns\n",
    "#Use double brackets [['time', 'population_total']] to keep those columns.\n",
    "b_pop = b_pop[['time', 'population_total']]\n",
    "\n",
    "# At the end finally Display the first few rows to confirm all ius good \n",
    "b_pop.head()\n"
   ]
  },
  {
   "cell_type": "markdown",
   "metadata": {
    "deletable": false,
    "editable": false
   },
   "source": [
    "Create a table called `b_five` that has the population of Bangladesh every five years. At a glance, it appears that the population of Bangladesh has been growing quickly indeed!"
   ]
  },
  {
   "cell_type": "code",
   "execution_count": null,
   "metadata": {
    "deletable": false
   },
   "outputs": [],
   "source": [
    "fives = np.arange(1970, 2016, 5) # 1970, 1975, 1980, ...\n",
    "b_five = ...\n",
    "b_five"
   ]
  },
  {
   "cell_type": "code",
   "execution_count": 18,
   "metadata": {},
   "outputs": [
    {
     "data": {
      "text/html": [
       "<div>\n",
       "<style scoped>\n",
       "    .dataframe tbody tr th:only-of-type {\n",
       "        vertical-align: middle;\n",
       "    }\n",
       "\n",
       "    .dataframe tbody tr th {\n",
       "        vertical-align: top;\n",
       "    }\n",
       "\n",
       "    .dataframe thead th {\n",
       "        text-align: right;\n",
       "    }\n",
       "</style>\n",
       "<table border=\"1\" class=\"dataframe\">\n",
       "  <thead>\n",
       "    <tr style=\"text-align: right;\">\n",
       "      <th></th>\n",
       "      <th>time</th>\n",
       "      <th>population_total</th>\n",
       "    </tr>\n",
       "  </thead>\n",
       "  <tbody>\n",
       "    <tr>\n",
       "      <th>7509</th>\n",
       "      <td>1970</td>\n",
       "      <td>65048701</td>\n",
       "    </tr>\n",
       "    <tr>\n",
       "      <th>7514</th>\n",
       "      <td>1975</td>\n",
       "      <td>71247153</td>\n",
       "    </tr>\n",
       "    <tr>\n",
       "      <th>7519</th>\n",
       "      <td>1980</td>\n",
       "      <td>81364176</td>\n",
       "    </tr>\n",
       "    <tr>\n",
       "      <th>7524</th>\n",
       "      <td>1985</td>\n",
       "      <td>93015182</td>\n",
       "    </tr>\n",
       "    <tr>\n",
       "      <th>7529</th>\n",
       "      <td>1990</td>\n",
       "      <td>105983136</td>\n",
       "    </tr>\n",
       "    <tr>\n",
       "      <th>7534</th>\n",
       "      <td>1995</td>\n",
       "      <td>118427768</td>\n",
       "    </tr>\n",
       "    <tr>\n",
       "      <th>7539</th>\n",
       "      <td>2000</td>\n",
       "      <td>131280739</td>\n",
       "    </tr>\n",
       "    <tr>\n",
       "      <th>7544</th>\n",
       "      <td>2005</td>\n",
       "      <td>142929979</td>\n",
       "    </tr>\n",
       "    <tr>\n",
       "      <th>7549</th>\n",
       "      <td>2010</td>\n",
       "      <td>151616777</td>\n",
       "    </tr>\n",
       "    <tr>\n",
       "      <th>7554</th>\n",
       "      <td>2015</td>\n",
       "      <td>160995642</td>\n",
       "    </tr>\n",
       "  </tbody>\n",
       "</table>\n",
       "</div>"
      ],
      "text/plain": [
       "      time  population_total\n",
       "7509  1970          65048701\n",
       "7514  1975          71247153\n",
       "7519  1980          81364176\n",
       "7524  1985          93015182\n",
       "7529  1990         105983136\n",
       "7534  1995         118427768\n",
       "7539  2000         131280739\n",
       "7544  2005         142929979\n",
       "7549  2010         151616777\n",
       "7554  2015         160995642"
      ]
     },
     "execution_count": 18,
     "metadata": {},
     "output_type": "execute_result"
    }
   ],
   "source": [
    "fives = np.arange(1970, 2016, 5)  # 1970, 1975, 1980, ..., 2015 #This is to generate the years every 5 years using np.arrange (creates an array from 1970 to 2015 in steps of 5)\n",
    "b_five = b_pop[b_pop['time'].isin(fives)] #filtering b_pop to include only rows where 'time' is in the 'fives' array\n",
    "# I'm using the .isin() method to check if 'time' matches any value in 'fives'\n",
    "b_five \n"
   ]
  },
  {
   "cell_type": "markdown",
   "metadata": {
    "deletable": false,
    "editable": false
   },
   "source": [
    "**Question 2.** Create a table called `b_five_growth` that includes three columns, `time`, `population_total`, and `annual_growth`. There should be one row for every five years from 1970 through 2010 (but not 2015). The first two columns are the same as `b_five`. The third column is the **annual** growth rate for each five-year period. For example, the annual growth rate for 1975 is the yearly exponential growth rate that describes the total growth from 1975 to 1980 when applied 5 times.\n",
    "\n",
    "*Hint*: Only your `b_five_growth` table will be scored for correctness; the other names are suggestions that you are welcome to use, change, or delete."
   ]
  },
  {
   "cell_type": "code",
   "execution_count": null,
   "metadata": {
    "deletable": false
   },
   "outputs": [],
   "source": [
    "b_1970_through_2010 = ...\n",
    "initial = ...\n",
    "changed = ...\n",
    "b_five_growth = ..."
   ]
  },
  {
   "cell_type": "code",
   "execution_count": 19,
   "metadata": {
    "deletable": false
   },
   "outputs": [
    {
     "data": {
      "text/html": [
       "<div>\n",
       "<style scoped>\n",
       "    .dataframe tbody tr th:only-of-type {\n",
       "        vertical-align: middle;\n",
       "    }\n",
       "\n",
       "    .dataframe tbody tr th {\n",
       "        vertical-align: top;\n",
       "    }\n",
       "\n",
       "    .dataframe thead th {\n",
       "        text-align: right;\n",
       "    }\n",
       "</style>\n",
       "<table border=\"1\" class=\"dataframe\">\n",
       "  <thead>\n",
       "    <tr style=\"text-align: right;\">\n",
       "      <th></th>\n",
       "      <th>time</th>\n",
       "      <th>population_total</th>\n",
       "      <th>annual_growth</th>\n",
       "    </tr>\n",
       "  </thead>\n",
       "  <tbody>\n",
       "    <tr>\n",
       "      <th>0</th>\n",
       "      <td>1970</td>\n",
       "      <td>65048701</td>\n",
       "      <td>0.018370</td>\n",
       "    </tr>\n",
       "    <tr>\n",
       "      <th>1</th>\n",
       "      <td>1975</td>\n",
       "      <td>71247153</td>\n",
       "      <td>0.026912</td>\n",
       "    </tr>\n",
       "    <tr>\n",
       "      <th>2</th>\n",
       "      <td>1980</td>\n",
       "      <td>81364176</td>\n",
       "      <td>0.027127</td>\n",
       "    </tr>\n",
       "    <tr>\n",
       "      <th>3</th>\n",
       "      <td>1985</td>\n",
       "      <td>93015182</td>\n",
       "      <td>0.026447</td>\n",
       "    </tr>\n",
       "    <tr>\n",
       "      <th>4</th>\n",
       "      <td>1990</td>\n",
       "      <td>105983136</td>\n",
       "      <td>0.022453</td>\n",
       "    </tr>\n",
       "    <tr>\n",
       "      <th>5</th>\n",
       "      <td>1995</td>\n",
       "      <td>118427768</td>\n",
       "      <td>0.020821</td>\n",
       "    </tr>\n",
       "    <tr>\n",
       "      <th>6</th>\n",
       "      <td>2000</td>\n",
       "      <td>131280739</td>\n",
       "      <td>0.017149</td>\n",
       "    </tr>\n",
       "    <tr>\n",
       "      <th>7</th>\n",
       "      <td>2005</td>\n",
       "      <td>142929979</td>\n",
       "      <td>0.011870</td>\n",
       "    </tr>\n",
       "  </tbody>\n",
       "</table>\n",
       "</div>"
      ],
      "text/plain": [
       "   time  population_total  annual_growth\n",
       "0  1970          65048701       0.018370\n",
       "1  1975          71247153       0.026912\n",
       "2  1980          81364176       0.027127\n",
       "3  1985          93015182       0.026447\n",
       "4  1990         105983136       0.022453\n",
       "5  1995         118427768       0.020821\n",
       "6  2000         131280739       0.017149\n",
       "7  2005         142929979       0.011870"
      ]
     },
     "execution_count": 19,
     "metadata": {},
     "output_type": "execute_result"
    }
   ],
   "source": [
    "# Step 1: Filtering b_five to exclude 2015\n",
    "# I don't want 2015 because there's no \"next\" row for it to calculate growth\n",
    "b_1970_through_2010 = b_five[b_five['time'] <= 2010].reset_index(drop=True)\n",
    "\n",
    "# Step 2: Calculating the annual growth rate\n",
    "# I need two versions of the population_total column to calculate growth:\n",
    "# \"initial\" is population at time t (skip the last row)\n",
    "# 'changed\" is population at time t+5 (skip the first row)\n",
    "initial = b_1970_through_2010['population_total'][:-1].values  # Population at time t\n",
    "changed = b_1970_through_2010['population_total'][1:].values   # Population at time t+5\n",
    "\n",
    "# Using the formula for exponential growth\n",
    "# Annual growth = (changed / initial) ** (1/5) - 1\n",
    "annual_growth = (changed / initial)**(1/5) - 1\n",
    "\n",
    "# Step 3: Add the growth rate to the table\n",
    "# I copy b_1970_through_2010 and drop the last row since it has no \"next\" value\n",
    "b_five_growth = b_1970_through_2010[:-1].copy()  # Drop the last row because it has no next value\n",
    "b_five_growth['annual_growth'] = annual_growth\n",
    "\n",
    "# Displaying e the final table\n",
    "b_five_growth"
   ]
  },
  {
   "cell_type": "markdown",
   "metadata": {
    "deletable": false,
    "editable": false
   },
   "source": [
    "While the population has grown every five years since 1970, the annual growth rate decreased dramatically from 1985 to 2005. Let's look at some other information in order to develop a possible explanation. Run the next cell to load three additional tables of measurements about countries over time."
   ]
  },
  {
   "cell_type": "code",
   "execution_count": 21,
   "metadata": {
    "deletable": false
   },
   "outputs": [],
   "source": [
    "life_expectancy = pd.read_csv('../datasets/life_expectancy.csv')\n",
    "child_mortality = pd.read_csv('../datasets/child_mortality.csv')\n",
    "fertility = pd.read_csv('../datasets/fertility.csv')"
   ]
  },
  {
   "cell_type": "markdown",
   "metadata": {
    "deletable": false,
    "editable": false
   },
   "source": [
    "The `life_expectancy` table contains a statistic that is often used to measure how long people live, called *life expectancy at birth*. This number, for a country in a given year, [does not measure how long babies born in that year are expected to live](http://blogs.worldbank.org/opendata/what-does-life-expectancy-birth-really-mean). Instead, it measures how long someone would live, on average, if the *mortality conditions* in that year persisted throughout their lifetime. These \"mortality conditions\" describe what fraction of people at each age survived the year. So, it is a way of measuring the proportion of people that are staying alive, aggregated over different age groups in the population."
   ]
  },
  {
   "cell_type": "code",
   "execution_count": 23,
   "metadata": {},
   "outputs": [
    {
     "name": "stdout",
     "output_type": "stream",
     "text": [
      "Life Expectancy Table:\n",
      "   geo  time  life_expectancy_years\n",
      "0  afg  1800                  28.21\n",
      "1  afg  1801                  28.20\n",
      "2  afg  1802                  28.19\n",
      "3  afg  1803                  28.18\n",
      "4  afg  1804                  28.17\n",
      "\n",
      "Child Mortality Table:\n",
      "   geo  time  child_mortality_0_5_year_olds_dying_per_1000_born\n",
      "0  afg  1800                                              468.6\n",
      "1  afg  1801                                              468.6\n",
      "2  afg  1802                                              468.6\n",
      "3  afg  1803                                              468.6\n",
      "4  afg  1804                                              468.6\n",
      "\n",
      "Fertility Table:\n",
      "   geo  time  children_per_woman_total_fertility\n",
      "0  afg  1800                                 7.0\n",
      "1  afg  1801                                 7.0\n",
      "2  afg  1802                                 7.0\n",
      "3  afg  1803                                 7.0\n",
      "4  afg  1804                                 7.0\n"
     ]
    }
   ],
   "source": [
    "# I want start  by displaying the first five rows of wach dataset. \n",
    "print(\"Life Expectancy Table:\")\n",
    "print(life_expectancy.head())\n",
    "\n",
    "print(\"\\nChild Mortality Table:\")\n",
    "print(child_mortality.head())\n",
    "\n",
    "print(\"\\nFertility Table:\")\n",
    "print(fertility.head())"
   ]
  },
  {
   "cell_type": "markdown",
   "metadata": {
    "deletable": false,
    "editable": false
   },
   "source": [
    "**Question 3.** Perhaps population is growing more slowly because people aren't living as long. Use the `life_expectancy` table to draw a line graph with the years 1970 and later on the horizontal axis that shows how the *life expectancy at birth* has changed in Bangladesh."
   ]
  },
  {
   "cell_type": "code",
   "execution_count": null,
   "metadata": {
    "deletable": false,
    "manual_grade": true,
    "manual_problem_id": "global_pop_3"
   },
   "outputs": [],
   "source": [
    "..."
   ]
  },
  {
   "cell_type": "markdown",
   "metadata": {
    "deletable": false,
    "editable": false
   },
   "source": [
    "Does the graph above help directly explain why the population growth rate decreased from 1985 to 2010 in Bangladesh? Why or why not? What happened in Bangladesh in 1991, and does that event explain the change in population growth rate?"
   ]
  },
  {
   "cell_type": "markdown",
   "metadata": {
    "collapsed": true,
    "deletable": false,
    "manual_grade": true,
    "manual_problem_id": "global_pop_4"
   },
   "source": [
    "*No, the graph does not directly explain why the population growth rate decreased in Bangladesh from 1985 to 2010.\n",
    "This graph shows global trends in population growth, not specific trends for Bangladesh.\n",
    "While it highlights the global slowdown in population growth projections, it does not provide any country-specific information.\n",
    "To explain the decrease in Bangladesh's population growth rate, we wpuld need country-level factors like life expectancy, fertility rates, or child mortality data — which we now have in the other tables.*\n",
    "\n",
    "*To answer what happened in Bangladesh in 1991 I had to search the information to have a clearer picture. This is what I found:\n",
    "One of the most powerful tropical cyclones ever recorded in the basin, the tropical cyclone caused a 6.1 m (20 ft) storm surge, which inundated the coastline.\n",
    "The storm hit near the Chittagong region, one of the most populated areas in Bangladesh. An estimated 140,000 people were killed by the storm, as many as 10 million people lost their homes, and overall property damage was in the billions of dollars.*\n",
    "*This evennt likely does not explain the long-term decrease in population growth rate in Bangladesh from 1985 to 2010.While the cyclone caused a spike in deaths (140,000) in 1991, it does not explain the consistent, long-term decline in growth rates seen between 1985 and 2010. I't could be argued that the economic impact and people losing their homes could also play a role, but I would need more data on that.*\n",
    "\n"
   ]
  },
  {
   "cell_type": "markdown",
   "metadata": {
    "deletable": false,
    "editable": false
   },
   "source": [
    "The `fertility` table contains a statistic that is often used to measure how many babies are being born, the *total fertility rate*. This number describes the [number of children a woman would have in her lifetime](https://www.measureevaluation.org/prh/rh_indicators/specific/fertility/total-fertility-rate), on average, if the current rates of birth by age of the mother persisted throughout her child bearing years, assuming she survived through age 49. "
   ]
  },
  {
   "cell_type": "code",
   "execution_count": 24,
   "metadata": {},
   "outputs": [],
   "source": [
    "##The link for the \"number of children a woman would have in her lifetime\" is not currently working "
   ]
  },
  {
   "cell_type": "markdown",
   "metadata": {
    "deletable": false,
    "editable": false
   },
   "source": [
    "**Question 4.** Write a function `fertility_over_time` that takes the Alpha-3 code of a `country` and a `start` year. It returns a two-column table with labels \"`Year`\" and \"`Children per woman`\" that can be used to generate a line chart of the country's fertility rate each year, starting at the `start` year. The plot should include the `start` year and all later years that appear in the `fertility` table. \n",
    "\n",
    "Then, in the next cell, call your `fertility_over_time` function on the Alpha-3 code for Bangladesh and the year 1970 in order to plot how Bangladesh's fertility rate has changed since 1970. **The expression that draws the line plot is provided for you; please don't change it.**"
   ]
  },
  {
   "cell_type": "code",
   "execution_count": null,
   "metadata": {
    "deletable": false
   },
   "outputs": [],
   "source": [
    "def fertility_over_time(country: str, start: int) -> pd.DataFrame:\n",
    "    \"\"\"\n",
    "    Create a two-column DataFrame that describes a country's total fertility rate each year.\n",
    "    :param country - alpha-3 code for the country\n",
    "    :param start - start year\n",
    "    \"\"\"\n",
    "    pass  # remove this line and write your solution here"
   ]
  },
  {
   "cell_type": "code",
   "execution_count": 28,
   "metadata": {},
   "outputs": [],
   "source": [
    "def fertility_over_time(country: str, start: int) -> pd.DataFrame:\n",
    "    \"\"\"\n",
    "    Create a two-column DataFrame that describes a country's total fertility rate each year.\n",
    "    :param country: alpha-3 code for the country\n",
    "    :param start: start year\n",
    "    :return: DataFrame with two columns: 'Year' and 'Children per woman'\n",
    "    \"\"\"\n",
    "    # Step 1: Filtering the fertility table for the specified country\n",
    "    # I use 'geo' == country to get rows specific to the input country\n",
    "    country_fertility = fertility[fertility['geo'] == country]\n",
    "    \n",
    "    # Step 2: Filtering  for years greater than or equal to 'start'\n",
    "    # I only keep years greater than or equal to 'start'\n",
    "\n",
    "    country_fertility = country_fertility[country_fertility['time'] >= start]\n",
    "    \n",
    "    # Step 3: Renameing  the columns to 'Year' and 'Children per woman'\n",
    "    # 'time' becomes 'Year' for clarity\n",
    "    # 'children_per_woman_total_fertility' becomes 'Children per woman'\n",
    "    country_fertility = country_fertility[['time', 'children_per_woman_total_fertility']]\n",
    "    country_fertility.columns = ['Year', 'Children per woman']\n",
    "    \n",
    "    #return  \n",
    "    return country_fertility"
   ]
  },
  {
   "cell_type": "code",
   "execution_count": null,
   "metadata": {
    "deletable": false
   },
   "outputs": [],
   "source": [
    "bangladesh_code = ...\n",
    "bangladesh_code.plot(0, 1) # You should *not* change this line."
   ]
  },
  {
   "cell_type": "code",
   "execution_count": 27,
   "metadata": {
    "deletable": false
   },
   "outputs": [
    {
     "data": {
      "text/plain": [
       "<Axes: xlabel='Year'>"
      ]
     },
     "execution_count": 27,
     "metadata": {},
     "output_type": "execute_result"
    },
    {
     "data": {
      "image/png": "[encoded data removed]",
      "text/plain": [
       "<Figure size 640x480 with 1 Axes>"
      ]
     },
     "metadata": {},
     "output_type": "display_data"
    }
   ],
   "source": [
    "#copying and pasting the code from above \n",
    "# Continuing with Step 5: Calling the function for Bangladesh ('bgd') starting from 1970\n",
    "bangladesh_code = fertility_over_time('bgd', 1970)\n",
    "\n",
    "# Step 6: Ploting  the results using the provided line of code\n",
    "bangladesh_code.plot(0, 1)  # Do not change this line"
   ]
  },
  {
   "cell_type": "markdown",
   "metadata": {
    "deletable": false,
    "editable": false
   },
   "source": [
    "**Question 5.** Does the graph above help directly explain why the population growth rate decreased from 1985 to 2010 in Bangladesh? Why or why not?"
   ]
  },
  {
   "cell_type": "markdown",
   "metadata": {
    "deletable": false,
    "manual_grade": true,
    "manual_problem_id": "global_pop_6"
   },
   "source": [
    "*Yes, this graoh provides some strong evidence on why the population growth rate decreased in Bangladesh from 1985 to 2010.*\n",
    "*The graph shows that the total fertility rate in Bangladesh decreased significantly from nearly 7 children per woman in 1970 to just over 2 children per woman by 2010. This decline in fertility directly contributes to a slower population growth rate since fewer children are being born.*\n"
   ]
  },
  {
   "cell_type": "markdown",
   "metadata": {
    "deletable": false,
    "editable": false
   },
   "source": [
    "It has been observed that lower fertility rates are often associated with lower child mortality rates. The link has been attributed to family planning: if parents can expect that their children will all survive into adulthood, then they will choose to have fewer children. We can see if this association is evident in Bangladesh by plotting the relationship between total fertility rate and [child mortality rate per 1000 children](https://en.wikipedia.org/wiki/Child_mortality)."
   ]
  },
  {
   "cell_type": "markdown",
   "metadata": {
    "deletable": false,
    "editable": false
   },
   "source": [
    "**Question 6.** Using both the `fertility` and `child_mortality` tables, draw a scatter diagram with one point for each year, starting with 1970, that has Bangladesh's total fertility on the horizontal axis and its child mortality on the vertical axis. \n",
    "\n",
    "**The expression that draws the scatter diagram is provided for you; please don't change it.** Instead, create a table called `fertility_and_child_mortality` with the appropriate column labels and data in order to generate the chart correctly. Use the label \"`Children per woman`\" to describe total fertility and the label \"`Child deaths per 1000 born`\" to describe child mortality."
   ]
  },
  {
   "cell_type": "code",
   "execution_count": null,
   "metadata": {},
   "outputs": [],
   "source": [
    "fertility_and_child_mortality = ...\n",
    "\n",
    "# You should *not* change the statement below\n",
    "fertility_and_child_mortality.plot.scatter(\n",
    "    'Children per woman', 'Child deaths per 1000 born'\n",
    ")"
   ]
  },
  {
   "cell_type": "code",
   "execution_count": 31,
   "metadata": {
    "deletable": false
   },
   "outputs": [
    {
     "data": {
      "text/plain": [
       "<Axes: xlabel='Children per woman', ylabel='Child deaths per 1000 born'>"
      ]
     },
     "execution_count": 31,
     "metadata": {},
     "output_type": "execute_result"
    },
    {
     "data": {
      "image/png": "[encoded data removed]",
      "text/plain": [
       "<Figure size 640x480 with 1 Axes>"
      ]
     },
     "metadata": {},
     "output_type": "display_data"
    }
   ],
   "source": [
    "# First, Step 1: Filtering fertility table for Bangladesh ('bgd') starting from 1970\n",
    "# Keeping only rows where 'geo' == 'bgd' and 'time' >= 1970\n",
    "bangladesh_fertility = fertility[(fertility['geo'] == 'bgd') & (fertility['time'] >= 1970)]\n",
    "\n",
    "# Step 2: Filtering child_mortality table for Bangladesh starting from 1970\n",
    "bangladesh_mortality = child_mortality[(child_mortality['geo'] == 'bgd') & (child_mortality['time'] >= 1970)]\n",
    "\n",
    "# Step 3: Merging the two tables on 'geo' and 'time' columns\n",
    "# This combines fertility and child mortality data year by year\n",
    "\n",
    "fertility_and_child_mortality = pd.merge(bangladesh_fertility, bangladesh_mortality, on=['geo', 'time'])\n",
    "\n",
    "# Step 4: Renaming columns to match the scatter plot labels\n",
    "fertility_and_child_mortality = fertility_and_child_mortality.rename(columns={\n",
    "    'children_per_woman_total_fertility': 'Children per woman',\n",
    "    'child_mortality_0_5_year_olds_dying_per_1000_born': 'Child deaths per 1000 born'\n",
    "})\n",
    "\n",
    "# Step 5: Selecting   only the columns we need\n",
    "# Keeping 'time', 'Children per woman', and 'Child deaths per 1000 born'\n",
    "fertility_and_child_mortality = fertility_and_child_mortality[['time', 'Children per woman', 'Child deaths per 1000 born']]\n",
    "\n",
    "# Step 6: Is to plot  the scatter diagram (provided code)\n",
    "fertility_and_child_mortality.plot.scatter(\n",
    "    'Children per woman', 'Child deaths per 1000 born'\n",
    ")"
   ]
  },
  {
   "cell_type": "markdown",
   "metadata": {
    "deletable": false,
    "editable": false
   },
   "source": [
    "In one or two sentences, describe the association (if any) that is illustrated by this scatter diagram. Does the diagram show that reduced child mortality causes parents to choose to have fewer children?"
   ]
  },
  {
   "cell_type": "markdown",
   "metadata": {
    "deletable": false
   },
   "source": [
    "*The scatter diagram, does show an association. In this case, a positvie association between child mortality and fertility rates. This means that as child mortality decreses, the number of children per woman also decreses. However, the scatter diagram does not prove causation. The diagram only illustrates a correlation. The graph does not prove that reduced child mortality causes parents to have fewer children; it only shows a correlation. While reduced child mortality is likely a contributing factor in parents choosing to have fewer childre, there might as well be other contributing factors.*"
   ]
  },
  {
   "cell_type": "code",
   "execution_count": null,
   "metadata": {
    "deletable": false
   },
   "outputs": [],
   "source": []
  },
  {
   "cell_type": "markdown",
   "metadata": {
    "deletable": false,
    "editable": false
   },
   "source": [
    "### The World\n",
    "\n",
    "The change observed in Bangladesh since 1970 can also be observed in many other developing countries: health services improve, life expectancy increases, and child mortality decreases. At the same time, the fertility rate often plummets, and so the population growth rate decreases despite increasing longevity."
   ]
  },
  {
   "cell_type": "markdown",
   "metadata": {
    "deletable": false,
    "editable": false
   },
   "source": [
    "Run the cell below to generate two overlaid histograms, one for 1960 and one for 2010, that show the distributions of total fertility rates for these two years among all 201 countries in the `fertility` table."
   ]
  },
  {
   "cell_type": "code",
   "execution_count": 32,
   "metadata": {},
   "outputs": [
    {
     "data": {
      "text/html": [
       "<div>\n",
       "<style scoped>\n",
       "    .dataframe tbody tr th:only-of-type {\n",
       "        vertical-align: middle;\n",
       "    }\n",
       "\n",
       "    .dataframe tbody tr th {\n",
       "        vertical-align: top;\n",
       "    }\n",
       "\n",
       "    .dataframe thead th {\n",
       "        text-align: right;\n",
       "    }\n",
       "</style>\n",
       "<table border=\"1\" class=\"dataframe\">\n",
       "  <thead>\n",
       "    <tr style=\"text-align: right;\">\n",
       "      <th></th>\n",
       "      <th>geo</th>\n",
       "      <th>time</th>\n",
       "      <th>children_per_woman_total_fertility</th>\n",
       "    </tr>\n",
       "  </thead>\n",
       "  <tbody>\n",
       "    <tr>\n",
       "      <th>160</th>\n",
       "      <td>afg</td>\n",
       "      <td>1960</td>\n",
       "      <td>7.67</td>\n",
       "    </tr>\n",
       "    <tr>\n",
       "      <th>376</th>\n",
       "      <td>alb</td>\n",
       "      <td>1960</td>\n",
       "      <td>6.19</td>\n",
       "    </tr>\n",
       "    <tr>\n",
       "      <th>592</th>\n",
       "      <td>dza</td>\n",
       "      <td>1960</td>\n",
       "      <td>7.65</td>\n",
       "    </tr>\n",
       "    <tr>\n",
       "      <th>808</th>\n",
       "      <td>ago</td>\n",
       "      <td>1960</td>\n",
       "      <td>7.32</td>\n",
       "    </tr>\n",
       "    <tr>\n",
       "      <th>1024</th>\n",
       "      <td>atg</td>\n",
       "      <td>1960</td>\n",
       "      <td>4.43</td>\n",
       "    </tr>\n",
       "    <tr>\n",
       "      <th>...</th>\n",
       "      <td>...</td>\n",
       "      <td>...</td>\n",
       "      <td>...</td>\n",
       "    </tr>\n",
       "    <tr>\n",
       "      <th>42492</th>\n",
       "      <td>vnm</td>\n",
       "      <td>1960</td>\n",
       "      <td>6.35</td>\n",
       "    </tr>\n",
       "    <tr>\n",
       "      <th>42708</th>\n",
       "      <td>vir</td>\n",
       "      <td>1960</td>\n",
       "      <td>5.62</td>\n",
       "    </tr>\n",
       "    <tr>\n",
       "      <th>42924</th>\n",
       "      <td>yem</td>\n",
       "      <td>1960</td>\n",
       "      <td>7.29</td>\n",
       "    </tr>\n",
       "    <tr>\n",
       "      <th>43140</th>\n",
       "      <td>zmb</td>\n",
       "      <td>1960</td>\n",
       "      <td>7.02</td>\n",
       "    </tr>\n",
       "    <tr>\n",
       "      <th>43356</th>\n",
       "      <td>zwe</td>\n",
       "      <td>1960</td>\n",
       "      <td>7.16</td>\n",
       "    </tr>\n",
       "  </tbody>\n",
       "</table>\n",
       "<p>201 rows × 3 columns</p>\n",
       "</div>"
      ],
      "text/plain": [
       "       geo  time  children_per_woman_total_fertility\n",
       "160    afg  1960                                7.67\n",
       "376    alb  1960                                6.19\n",
       "592    dza  1960                                7.65\n",
       "808    ago  1960                                7.32\n",
       "1024   atg  1960                                4.43\n",
       "...    ...   ...                                 ...\n",
       "42492  vnm  1960                                6.35\n",
       "42708  vir  1960                                5.62\n",
       "42924  yem  1960                                7.29\n",
       "43140  zmb  1960                                7.02\n",
       "43356  zwe  1960                                7.16\n",
       "\n",
       "[201 rows x 3 columns]"
      ]
     },
     "execution_count": 32,
     "metadata": {},
     "output_type": "execute_result"
    }
   ],
   "source": [
    "fertility[fertility.time == 1960]\n"
   ]
  },
  {
   "cell_type": "code",
   "execution_count": 33,
   "metadata": {},
   "outputs": [
    {
     "data": {
      "text/html": [
       "<div>\n",
       "<style scoped>\n",
       "    .dataframe tbody tr th:only-of-type {\n",
       "        vertical-align: middle;\n",
       "    }\n",
       "\n",
       "    .dataframe tbody tr th {\n",
       "        vertical-align: top;\n",
       "    }\n",
       "\n",
       "    .dataframe thead th {\n",
       "        text-align: right;\n",
       "    }\n",
       "</style>\n",
       "<table border=\"1\" class=\"dataframe\">\n",
       "  <thead>\n",
       "    <tr style=\"text-align: right;\">\n",
       "      <th></th>\n",
       "      <th>children_per_woman_total_fertility</th>\n",
       "    </tr>\n",
       "    <tr>\n",
       "      <th>geo</th>\n",
       "      <th></th>\n",
       "    </tr>\n",
       "  </thead>\n",
       "  <tbody>\n",
       "    <tr>\n",
       "      <th>afg</th>\n",
       "      <td>7.67</td>\n",
       "    </tr>\n",
       "    <tr>\n",
       "      <th>alb</th>\n",
       "      <td>6.19</td>\n",
       "    </tr>\n",
       "    <tr>\n",
       "      <th>dza</th>\n",
       "      <td>7.65</td>\n",
       "    </tr>\n",
       "    <tr>\n",
       "      <th>ago</th>\n",
       "      <td>7.32</td>\n",
       "    </tr>\n",
       "    <tr>\n",
       "      <th>atg</th>\n",
       "      <td>4.43</td>\n",
       "    </tr>\n",
       "    <tr>\n",
       "      <th>...</th>\n",
       "      <td>...</td>\n",
       "    </tr>\n",
       "    <tr>\n",
       "      <th>vnm</th>\n",
       "      <td>6.35</td>\n",
       "    </tr>\n",
       "    <tr>\n",
       "      <th>vir</th>\n",
       "      <td>5.62</td>\n",
       "    </tr>\n",
       "    <tr>\n",
       "      <th>yem</th>\n",
       "      <td>7.29</td>\n",
       "    </tr>\n",
       "    <tr>\n",
       "      <th>zmb</th>\n",
       "      <td>7.02</td>\n",
       "    </tr>\n",
       "    <tr>\n",
       "      <th>zwe</th>\n",
       "      <td>7.16</td>\n",
       "    </tr>\n",
       "  </tbody>\n",
       "</table>\n",
       "<p>201 rows × 1 columns</p>\n",
       "</div>"
      ],
      "text/plain": [
       "     children_per_woman_total_fertility\n",
       "geo                                    \n",
       "afg                                7.67\n",
       "alb                                6.19\n",
       "dza                                7.65\n",
       "ago                                7.32\n",
       "atg                                4.43\n",
       "..                                  ...\n",
       "vnm                                6.35\n",
       "vir                                5.62\n",
       "yem                                7.29\n",
       "zmb                                7.02\n",
       "zwe                                7.16\n",
       "\n",
       "[201 rows x 1 columns]"
      ]
     },
     "execution_count": 33,
     "metadata": {},
     "output_type": "execute_result"
    }
   ],
   "source": [
    "fertility[fertility.time == 1960].iloc[:, [0, 2]].set_index(\"geo\")"
   ]
  },
  {
   "cell_type": "code",
   "execution_count": 34,
   "metadata": {
    "deletable": false
   },
   "outputs": [
    {
     "data": {
      "image/png": "[encoded data removed]",
      "text/plain": [
       "<Figure size 640x480 with 2 Axes>"
      ]
     },
     "metadata": {},
     "output_type": "display_data"
    }
   ],
   "source": [
    "ax = pd.concat([\n",
    "    fertility[fertility.time == 1960].iloc[:, [0, 2]].rename(\n",
    "        columns={\"children_per_woman_total_fertility\": \"1960\"}\n",
    "    ).set_index(\"geo\"),\n",
    "    fertility[fertility.time == 2010].iloc[:, [0, 2]].rename(\n",
    "        columns={\"children_per_woman_total_fertility\": \"2010\"}\n",
    "    ).set_index(\"geo\")\n",
    "], axis=1).hist(bins=np.arange(0, 10, 0.5))\n",
    "for ix in range(len(ax[0])):\n",
    "    ax[0][ix].set_xlabel('Children per woman')\n",
    "    ax[0][ix].set_xticks(np.arange(10))"
   ]
  },
  {
   "cell_type": "markdown",
   "metadata": {
    "deletable": false,
    "editable": false
   },
   "source": [
    "**Question 7.** Assign `fertility_statements` to a list of the numbers for each statement below that can be correctly inferred from these histograms.\n",
    "1. About the same number of countries had a fertility rate between 3.5 and 4.5 in both 1960 and 2010.\n",
    "1. In 2010, about 40% of countries had a fertility rate between 1.5 and 2.\n",
    "1. In 1960, less than 20% of countries had a fertility rate below 3.\n",
    "1. More countries had a fertility rate above 3 in 1960 than in 2010.\n",
    "1. At least half of countries had a fertility rate between 5 and 8 in 1960.\n",
    "1. At least half of countries had a fertility rate below 3 in 2010."
   ]
  },
  {
   "cell_type": "code",
   "execution_count": null,
   "metadata": {
    "deletable": false
   },
   "outputs": [],
   "source": [
    "fertility_statements = ..."
   ]
  },
  {
   "cell_type": "code",
   "execution_count": 37,
   "metadata": {
    "deletable": false
   },
   "outputs": [],
   "source": [
    "# List of correct statements based on the analysis of the histograms\n",
    "# 2: In 2010, about 40% of countries had a fertility rate between 1.5 and 2.\n",
    "# 3: In 1960, less than 20% of countries had a fertility rate below 3.\n",
    "# 4: More countries had a fertility rate above 3 in 1960 than in 2010.\n",
    "# 5: At least half of countries had a fertility rate between 5 and 8 in 1960.\n",
    "# 6: At least half of countries had a fertility rate below 3 in 2010.\n",
    "\n",
    "fertility_statements = [2, 3, 4, 5, 6]\n",
    "\n",
    "#This will in principle create a variable called fertility_statements. \n",
    "# The variable just holds the answers. Meaning that this is only to represent the answers. !!  "
   ]
  },
  {
   "cell_type": "markdown",
   "metadata": {
    "deletable": false,
    "editable": false
   },
   "source": [
    "**Question 8.** Draw a line plot of the world population from 1800 through 2005. The world population is the sum of all the country's populations. "
   ]
  },
  {
   "cell_type": "code",
   "execution_count": 38,
   "metadata": {
    "deletable": false,
    "manual_grade": true,
    "manual_problem_id": "global_pop_10"
   },
   "outputs": [
    {
     "data": {
      "text/plain": [
       "<Axes: title={'center': 'World Population (1800-2005)'}, xlabel='Year', ylabel='World Population'>"
      ]
     },
     "execution_count": 38,
     "metadata": {},
     "output_type": "execute_result"
    },
    {
     "data": {
      "image/png": "[encoded data removed]",
      "text/plain": [
       "<Figure size 640x480 with 1 Axes>"
      ]
     },
     "metadata": {},
     "output_type": "display_data"
    }
   ],
   "source": [
    "# write your solution here\n",
    "...\n",
    "# Step 1: Filtering the population table for years between 1800 and 2005 \n",
    "world_population = population[(population['time'] >= 1800) & (population['time'] <= 2005)]\n",
    "\n",
    "# Step 2: Grouping by 'time' and sum the population for each year\n",
    "world_population_sum = world_population.groupby('time')['population_total'].sum()\n",
    "\n",
    "# Step 3: Ploting the world population as a line plot\n",
    "# 'time' is the index after grouping, and 'population_total' is summed .\n",
    "world_population_sum.plot(\n",
    "    kind='line', \n",
    "    title='World Population (1800-2005)',\n",
    "    xlabel='Year', \n",
    "    ylabel='World Population'\n",
    ")\n"
   ]
  },
  {
   "cell_type": "markdown",
   "metadata": {
    "deletable": false,
    "editable": false
   },
   "source": [
    "**Question 9.** Create a function `stats_for_year` that takes a `year` and returns a table of statistics. The table it returns should have four columns: `geo`, `population_total`, `children_per_woman_total_fertility`, and `child_mortality_under_5_per_1000_born`. Each row should contain one Alpha-3 country code and three statistics: population, fertility rate, and child mortality for that `year` from the `population`, `fertility` and `child_mortality` tables. Only include rows for which all three statistics are available for the country and year.\n",
    "\n",
    "In addition, restrict the result to country codes that appears in `big_50`, an array of the 50 most populous countries in 2010. This restriction will speed up computations later in the project."
   ]
  },
  {
   "cell_type": "code",
   "execution_count": 40,
   "metadata": {},
   "outputs": [
    {
     "data": {
      "text/html": [
       "<div>\n",
       "<style scoped>\n",
       "    .dataframe tbody tr th:only-of-type {\n",
       "        vertical-align: middle;\n",
       "    }\n",
       "\n",
       "    .dataframe tbody tr th {\n",
       "        vertical-align: top;\n",
       "    }\n",
       "\n",
       "    .dataframe thead th {\n",
       "        text-align: right;\n",
       "    }\n",
       "</style>\n",
       "<table border=\"1\" class=\"dataframe\">\n",
       "  <thead>\n",
       "    <tr style=\"text-align: right;\">\n",
       "      <th></th>\n",
       "      <th>geo</th>\n",
       "      <th>time</th>\n",
       "      <th>population_total</th>\n",
       "    </tr>\n",
       "  </thead>\n",
       "  <tbody>\n",
       "    <tr>\n",
       "      <th>30411</th>\n",
       "      <td>gha</td>\n",
       "      <td>2010</td>\n",
       "      <td>24317734</td>\n",
       "    </tr>\n",
       "    <tr>\n",
       "      <th>81152</th>\n",
       "      <td>uga</td>\n",
       "      <td>2010</td>\n",
       "      <td>33149417</td>\n",
       "    </tr>\n",
       "    <tr>\n",
       "      <th>61088</th>\n",
       "      <td>pak</td>\n",
       "      <td>2010</td>\n",
       "      <td>170043918</td>\n",
       "    </tr>\n",
       "    <tr>\n",
       "      <th>59484</th>\n",
       "      <td>npl</td>\n",
       "      <td>2010</td>\n",
       "      <td>26875910</td>\n",
       "    </tr>\n",
       "    <tr>\n",
       "      <th>15158</th>\n",
       "      <td>chn</td>\n",
       "      <td>2010</td>\n",
       "      <td>1340968737</td>\n",
       "    </tr>\n",
       "  </tbody>\n",
       "</table>\n",
       "</div>"
      ],
      "text/plain": [
       "       geo  time  population_total\n",
       "30411  gha  2010          24317734\n",
       "81152  uga  2010          33149417\n",
       "61088  pak  2010         170043918\n",
       "59484  npl  2010          26875910\n",
       "15158  chn  2010        1340968737"
      ]
     },
     "execution_count": 40,
     "metadata": {},
     "output_type": "execute_result"
    }
   ],
   "source": [
    "big_50 = population[(population[\"time\"] == 2010)].sort_values(\n",
    "    by=\"population_total\", ascending=False\n",
    ").head(50)\n",
    "population_of_big_50 = big_50.population_total\n",
    "big_50.sample(5)"
   ]
  },
  {
   "cell_type": "code",
   "execution_count": 47,
   "metadata": {
    "deletable": false
   },
   "outputs": [],
   "source": [
    "# We first create a population table that only includes the \n",
    "# 50 countries with the largest 2010 populations. We focus on \n",
    "# these 50 countries only so that plotting later will run faster.\n",
    "\n",
    "def stats_for_year(year: int) -> pd.DataFrame:\n",
    "    \"\"\"\n",
    "    Return a DataFrame with the stats for each country that year.\n",
    "    \"\"\"\n",
    "    pass"
   ]
  },
  {
   "cell_type": "code",
   "execution_count": 53,
   "metadata": {},
   "outputs": [],
   "source": [
    "# We first create a population table that only includes the \n",
    "# 50 countries with the largest 2010 populations. We focus on \n",
    "# these 50 countries only so that plotting later will run faster.\n",
    "\n",
    "# First I  Filter the big_50 country codes\n",
    "big_50_codes = big_50['geo']\n",
    "\n",
    "\n",
    "# This defines  the function stats_for_year\n",
    "def stats_for_year(year: int) -> pd.DataFrame:\n",
    "    \"\"\"\n",
    "    Return a DataFrame with the stats for each country that year.\n",
    "    \"\"\"\n",
    "\n",
    "    # Filtering the data for the given year\n",
    "    pop_data = population[population['time'] == year][['geo', 'population_total']]\n",
    "    fert_data = fertility[fertility['time'] == year][['geo', 'children_per_woman_total_fertility']]\n",
    "    mort_data = child_mortality[child_mortality['time'] == year][['geo', 'child_mortality_0_5_year_olds_dying_per_1000_born']]\n",
    "\n",
    "    # Then we need to merge the three tables on 'geo'\n",
    "    merged_data = pop_data.merge(fert_data, on='geo').merge(mort_data, on='geo')\n",
    "\n",
    "    # Next, restricting to the top 50 populous countries\n",
    "    merged_data = merged_data[merged_data['geo'].isin(big_50_codes)]\n",
    "\n",
    "    # Droping rows with missing values\n",
    "    merged_data = merged_data.dropna()\n",
    "\n",
    "    return merged_data\n",
    "\n",
    "\n"
   ]
  },
  {
   "cell_type": "code",
   "execution_count": 52,
   "metadata": {
    "deletable": false
   },
   "outputs": [
    {
     "data": {
      "text/html": [
       "<div>\n",
       "<style scoped>\n",
       "    .dataframe tbody tr th:only-of-type {\n",
       "        vertical-align: middle;\n",
       "    }\n",
       "\n",
       "    .dataframe tbody tr th {\n",
       "        vertical-align: top;\n",
       "    }\n",
       "\n",
       "    .dataframe thead th {\n",
       "        text-align: right;\n",
       "    }\n",
       "</style>\n",
       "<table border=\"1\" class=\"dataframe\">\n",
       "  <thead>\n",
       "    <tr style=\"text-align: right;\">\n",
       "      <th></th>\n",
       "      <th>geo</th>\n",
       "      <th>population_total</th>\n",
       "      <th>children_per_woman_total_fertility</th>\n",
       "      <th>child_mortality_0_5_year_olds_dying_per_1000_born</th>\n",
       "    </tr>\n",
       "  </thead>\n",
       "  <tbody>\n",
       "    <tr>\n",
       "      <th>1</th>\n",
       "      <td>afg</td>\n",
       "      <td>27962207</td>\n",
       "      <td>5.66</td>\n",
       "      <td>105.0</td>\n",
       "    </tr>\n",
       "    <tr>\n",
       "      <th>5</th>\n",
       "      <td>arg</td>\n",
       "      <td>41222875</td>\n",
       "      <td>2.22</td>\n",
       "      <td>14.6</td>\n",
       "    </tr>\n",
       "    <tr>\n",
       "      <th>15</th>\n",
       "      <td>bgd</td>\n",
       "      <td>151616777</td>\n",
       "      <td>2.28</td>\n",
       "      <td>49.6</td>\n",
       "    </tr>\n",
       "    <tr>\n",
       "      <th>23</th>\n",
       "      <td>bra</td>\n",
       "      <td>198614208</td>\n",
       "      <td>1.84</td>\n",
       "      <td>16.7</td>\n",
       "    </tr>\n",
       "    <tr>\n",
       "      <th>29</th>\n",
       "      <td>can</td>\n",
       "      <td>34126173</td>\n",
       "      <td>1.63</td>\n",
       "      <td>5.6</td>\n",
       "    </tr>\n",
       "    <tr>\n",
       "      <th>33</th>\n",
       "      <td>chn</td>\n",
       "      <td>1340968737</td>\n",
       "      <td>1.54</td>\n",
       "      <td>15.7</td>\n",
       "    </tr>\n",
       "    <tr>\n",
       "      <th>36</th>\n",
       "      <td>cod</td>\n",
       "      <td>65938712</td>\n",
       "      <td>6.25</td>\n",
       "      <td>116.1</td>\n",
       "    </tr>\n",
       "    <tr>\n",
       "      <th>38</th>\n",
       "      <td>col</td>\n",
       "      <td>45918101</td>\n",
       "      <td>2.38</td>\n",
       "      <td>18.5</td>\n",
       "    </tr>\n",
       "    <tr>\n",
       "      <th>45</th>\n",
       "      <td>deu</td>\n",
       "      <td>80435307</td>\n",
       "      <td>1.39</td>\n",
       "      <td>4.2</td>\n",
       "    </tr>\n",
       "    <tr>\n",
       "      <th>49</th>\n",
       "      <td>dza</td>\n",
       "      <td>36036159</td>\n",
       "      <td>2.82</td>\n",
       "      <td>27.4</td>\n",
       "    </tr>\n",
       "    <tr>\n",
       "      <th>51</th>\n",
       "      <td>egy</td>\n",
       "      <td>82040994</td>\n",
       "      <td>2.88</td>\n",
       "      <td>29.0</td>\n",
       "    </tr>\n",
       "    <tr>\n",
       "      <th>54</th>\n",
       "      <td>esp</td>\n",
       "      <td>46601492</td>\n",
       "      <td>1.46</td>\n",
       "      <td>4.6</td>\n",
       "    </tr>\n",
       "    <tr>\n",
       "      <th>56</th>\n",
       "      <td>eth</td>\n",
       "      <td>87561814</td>\n",
       "      <td>4.90</td>\n",
       "      <td>75.7</td>\n",
       "    </tr>\n",
       "    <tr>\n",
       "      <th>59</th>\n",
       "      <td>fra</td>\n",
       "      <td>62961136</td>\n",
       "      <td>1.98</td>\n",
       "      <td>4.3</td>\n",
       "    </tr>\n",
       "    <tr>\n",
       "      <th>62</th>\n",
       "      <td>gbr</td>\n",
       "      <td>62716684</td>\n",
       "      <td>1.90</td>\n",
       "      <td>5.2</td>\n",
       "    </tr>\n",
       "    <tr>\n",
       "      <th>64</th>\n",
       "      <td>gha</td>\n",
       "      <td>24317734</td>\n",
       "      <td>4.05</td>\n",
       "      <td>74.7</td>\n",
       "    </tr>\n",
       "    <tr>\n",
       "      <th>81</th>\n",
       "      <td>idn</td>\n",
       "      <td>241613126</td>\n",
       "      <td>2.43</td>\n",
       "      <td>33.1</td>\n",
       "    </tr>\n",
       "    <tr>\n",
       "      <th>82</th>\n",
       "      <td>ind</td>\n",
       "      <td>1230984504</td>\n",
       "      <td>2.56</td>\n",
       "      <td>59.9</td>\n",
       "    </tr>\n",
       "    <tr>\n",
       "      <th>84</th>\n",
       "      <td>irn</td>\n",
       "      <td>74253373</td>\n",
       "      <td>1.90</td>\n",
       "      <td>19.2</td>\n",
       "    </tr>\n",
       "    <tr>\n",
       "      <th>85</th>\n",
       "      <td>irq</td>\n",
       "      <td>30868156</td>\n",
       "      <td>4.21</td>\n",
       "      <td>36.6</td>\n",
       "    </tr>\n",
       "    <tr>\n",
       "      <th>88</th>\n",
       "      <td>ita</td>\n",
       "      <td>59588007</td>\n",
       "      <td>1.44</td>\n",
       "      <td>4.0</td>\n",
       "    </tr>\n",
       "    <tr>\n",
       "      <th>91</th>\n",
       "      <td>jpn</td>\n",
       "      <td>127319802</td>\n",
       "      <td>1.37</td>\n",
       "      <td>3.2</td>\n",
       "    </tr>\n",
       "    <tr>\n",
       "      <th>93</th>\n",
       "      <td>ken</td>\n",
       "      <td>40328313</td>\n",
       "      <td>4.62</td>\n",
       "      <td>63.6</td>\n",
       "    </tr>\n",
       "    <tr>\n",
       "      <th>97</th>\n",
       "      <td>kor</td>\n",
       "      <td>49090041</td>\n",
       "      <td>1.27</td>\n",
       "      <td>4.1</td>\n",
       "    </tr>\n",
       "    <tr>\n",
       "      <th>110</th>\n",
       "      <td>mar</td>\n",
       "      <td>32107739</td>\n",
       "      <td>2.58</td>\n",
       "      <td>33.1</td>\n",
       "    </tr>\n",
       "    <tr>\n",
       "      <th>114</th>\n",
       "      <td>mex</td>\n",
       "      <td>118617542</td>\n",
       "      <td>2.28</td>\n",
       "      <td>16.8</td>\n",
       "    </tr>\n",
       "    <tr>\n",
       "      <th>118</th>\n",
       "      <td>mmr</td>\n",
       "      <td>51733013</td>\n",
       "      <td>2.00</td>\n",
       "      <td>59.3</td>\n",
       "    </tr>\n",
       "    <tr>\n",
       "      <th>121</th>\n",
       "      <td>moz</td>\n",
       "      <td>24321457</td>\n",
       "      <td>5.41</td>\n",
       "      <td>103.8</td>\n",
       "    </tr>\n",
       "    <tr>\n",
       "      <th>126</th>\n",
       "      <td>mys</td>\n",
       "      <td>28119500</td>\n",
       "      <td>2.00</td>\n",
       "      <td>8.3</td>\n",
       "    </tr>\n",
       "    <tr>\n",
       "      <th>131</th>\n",
       "      <td>nga</td>\n",
       "      <td>159424742</td>\n",
       "      <td>6.02</td>\n",
       "      <td>130.3</td>\n",
       "    </tr>\n",
       "    <tr>\n",
       "      <th>135</th>\n",
       "      <td>npl</td>\n",
       "      <td>26875910</td>\n",
       "      <td>2.62</td>\n",
       "      <td>45.4</td>\n",
       "    </tr>\n",
       "    <tr>\n",
       "      <th>138</th>\n",
       "      <td>pak</td>\n",
       "      <td>170043918</td>\n",
       "      <td>3.43</td>\n",
       "      <td>91.8</td>\n",
       "    </tr>\n",
       "    <tr>\n",
       "      <th>140</th>\n",
       "      <td>per</td>\n",
       "      <td>29373644</td>\n",
       "      <td>2.51</td>\n",
       "      <td>21.0</td>\n",
       "    </tr>\n",
       "    <tr>\n",
       "      <th>141</th>\n",
       "      <td>phl</td>\n",
       "      <td>93038902</td>\n",
       "      <td>3.15</td>\n",
       "      <td>31.9</td>\n",
       "    </tr>\n",
       "    <tr>\n",
       "      <th>143</th>\n",
       "      <td>pol</td>\n",
       "      <td>38574682</td>\n",
       "      <td>1.37</td>\n",
       "      <td>5.8</td>\n",
       "    </tr>\n",
       "    <tr>\n",
       "      <th>145</th>\n",
       "      <td>prk</td>\n",
       "      <td>24500506</td>\n",
       "      <td>2.00</td>\n",
       "      <td>31.3</td>\n",
       "    </tr>\n",
       "    <tr>\n",
       "      <th>153</th>\n",
       "      <td>rus</td>\n",
       "      <td>143158099</td>\n",
       "      <td>1.57</td>\n",
       "      <td>12.0</td>\n",
       "    </tr>\n",
       "    <tr>\n",
       "      <th>155</th>\n",
       "      <td>sau</td>\n",
       "      <td>28090647</td>\n",
       "      <td>2.83</td>\n",
       "      <td>17.0</td>\n",
       "    </tr>\n",
       "    <tr>\n",
       "      <th>156</th>\n",
       "      <td>sdn</td>\n",
       "      <td>36114885</td>\n",
       "      <td>4.64</td>\n",
       "      <td>80.2</td>\n",
       "    </tr>\n",
       "    <tr>\n",
       "      <th>174</th>\n",
       "      <td>tha</td>\n",
       "      <td>66692024</td>\n",
       "      <td>1.44</td>\n",
       "      <td>14.5</td>\n",
       "    </tr>\n",
       "    <tr>\n",
       "      <th>181</th>\n",
       "      <td>tur</td>\n",
       "      <td>72310416</td>\n",
       "      <td>2.10</td>\n",
       "      <td>19.1</td>\n",
       "    </tr>\n",
       "    <tr>\n",
       "      <th>182</th>\n",
       "      <td>tza</td>\n",
       "      <td>45648525</td>\n",
       "      <td>5.43</td>\n",
       "      <td>62.3</td>\n",
       "    </tr>\n",
       "    <tr>\n",
       "      <th>183</th>\n",
       "      <td>uga</td>\n",
       "      <td>33149417</td>\n",
       "      <td>6.16</td>\n",
       "      <td>79.5</td>\n",
       "    </tr>\n",
       "    <tr>\n",
       "      <th>184</th>\n",
       "      <td>ukr</td>\n",
       "      <td>45647497</td>\n",
       "      <td>1.44</td>\n",
       "      <td>11.8</td>\n",
       "    </tr>\n",
       "    <tr>\n",
       "      <th>186</th>\n",
       "      <td>usa</td>\n",
       "      <td>309876170</td>\n",
       "      <td>1.93</td>\n",
       "      <td>7.4</td>\n",
       "    </tr>\n",
       "    <tr>\n",
       "      <th>187</th>\n",
       "      <td>uzb</td>\n",
       "      <td>27739764</td>\n",
       "      <td>2.41</td>\n",
       "      <td>46.1</td>\n",
       "    </tr>\n",
       "    <tr>\n",
       "      <th>189</th>\n",
       "      <td>ven</td>\n",
       "      <td>28995745</td>\n",
       "      <td>2.47</td>\n",
       "      <td>16.6</td>\n",
       "    </tr>\n",
       "    <tr>\n",
       "      <th>191</th>\n",
       "      <td>vnm</td>\n",
       "      <td>88357775</td>\n",
       "      <td>1.82</td>\n",
       "      <td>24.8</td>\n",
       "    </tr>\n",
       "    <tr>\n",
       "      <th>194</th>\n",
       "      <td>yem</td>\n",
       "      <td>23591972</td>\n",
       "      <td>4.50</td>\n",
       "      <td>58.8</td>\n",
       "    </tr>\n",
       "    <tr>\n",
       "      <th>195</th>\n",
       "      <td>zaf</td>\n",
       "      <td>51621594</td>\n",
       "      <td>2.47</td>\n",
       "      <td>54.4</td>\n",
       "    </tr>\n",
       "  </tbody>\n",
       "</table>\n",
       "</div>"
      ],
      "text/plain": [
       "     geo  population_total  children_per_woman_total_fertility  \\\n",
       "1    afg          27962207                                5.66   \n",
       "5    arg          41222875                                2.22   \n",
       "15   bgd         151616777                                2.28   \n",
       "23   bra         198614208                                1.84   \n",
       "29   can          34126173                                1.63   \n",
       "33   chn        1340968737                                1.54   \n",
       "36   cod          65938712                                6.25   \n",
       "38   col          45918101                                2.38   \n",
       "45   deu          80435307                                1.39   \n",
       "49   dza          36036159                                2.82   \n",
       "51   egy          82040994                                2.88   \n",
       "54   esp          46601492                                1.46   \n",
       "56   eth          87561814                                4.90   \n",
       "59   fra          62961136                                1.98   \n",
       "62   gbr          62716684                                1.90   \n",
       "64   gha          24317734                                4.05   \n",
       "81   idn         241613126                                2.43   \n",
       "82   ind        1230984504                                2.56   \n",
       "84   irn          74253373                                1.90   \n",
       "85   irq          30868156                                4.21   \n",
       "88   ita          59588007                                1.44   \n",
       "91   jpn         127319802                                1.37   \n",
       "93   ken          40328313                                4.62   \n",
       "97   kor          49090041                                1.27   \n",
       "110  mar          32107739                                2.58   \n",
       "114  mex         118617542                                2.28   \n",
       "118  mmr          51733013                                2.00   \n",
       "121  moz          24321457                                5.41   \n",
       "126  mys          28119500                                2.00   \n",
       "131  nga         159424742                                6.02   \n",
       "135  npl          26875910                                2.62   \n",
       "138  pak         170043918                                3.43   \n",
       "140  per          29373644                                2.51   \n",
       "141  phl          93038902                                3.15   \n",
       "143  pol          38574682                                1.37   \n",
       "145  prk          24500506                                2.00   \n",
       "153  rus         143158099                                1.57   \n",
       "155  sau          28090647                                2.83   \n",
       "156  sdn          36114885                                4.64   \n",
       "174  tha          66692024                                1.44   \n",
       "181  tur          72310416                                2.10   \n",
       "182  tza          45648525                                5.43   \n",
       "183  uga          33149417                                6.16   \n",
       "184  ukr          45647497                                1.44   \n",
       "186  usa         309876170                                1.93   \n",
       "187  uzb          27739764                                2.41   \n",
       "189  ven          28995745                                2.47   \n",
       "191  vnm          88357775                                1.82   \n",
       "194  yem          23591972                                4.50   \n",
       "195  zaf          51621594                                2.47   \n",
       "\n",
       "     child_mortality_0_5_year_olds_dying_per_1000_born  \n",
       "1                                                105.0  \n",
       "5                                                 14.6  \n",
       "15                                                49.6  \n",
       "23                                                16.7  \n",
       "29                                                 5.6  \n",
       "33                                                15.7  \n",
       "36                                               116.1  \n",
       "38                                                18.5  \n",
       "45                                                 4.2  \n",
       "49                                                27.4  \n",
       "51                                                29.0  \n",
       "54                                                 4.6  \n",
       "56                                                75.7  \n",
       "59                                                 4.3  \n",
       "62                                                 5.2  \n",
       "64                                                74.7  \n",
       "81                                                33.1  \n",
       "82                                                59.9  \n",
       "84                                                19.2  \n",
       "85                                                36.6  \n",
       "88                                                 4.0  \n",
       "91                                                 3.2  \n",
       "93                                                63.6  \n",
       "97                                                 4.1  \n",
       "110                                               33.1  \n",
       "114                                               16.8  \n",
       "118                                               59.3  \n",
       "121                                              103.8  \n",
       "126                                                8.3  \n",
       "131                                              130.3  \n",
       "135                                               45.4  \n",
       "138                                               91.8  \n",
       "140                                               21.0  \n",
       "141                                               31.9  \n",
       "143                                                5.8  \n",
       "145                                               31.3  \n",
       "153                                               12.0  \n",
       "155                                               17.0  \n",
       "156                                               80.2  \n",
       "174                                               14.5  \n",
       "181                                               19.1  \n",
       "182                                               62.3  \n",
       "183                                               79.5  \n",
       "184                                               11.8  \n",
       "186                                                7.4  \n",
       "187                                               46.1  \n",
       "189                                               16.6  \n",
       "191                                               24.8  \n",
       "194                                               58.8  \n",
       "195                                               54.4  "
      ]
     },
     "execution_count": 52,
     "metadata": {},
     "output_type": "execute_result"
    }
   ],
   "source": [
    "# You should verify the function you have written is correct\n",
    "# by running this cell for year 2010\n",
    "stats_for_year(2010)\n",
    "\n",
    "#This is to veryfy the function for the year 2010 \n"
   ]
  },
  {
   "cell_type": "markdown",
   "metadata": {},
   "source": [
    "**Question 10.** Create a table called `pop_by_decade` with two columns called `decade` and `population`. It has a row for each `year` since 1960 that starts a decade. The `population` column contains the total population of all countries included in the result of `stats_for_year(year)` for the first `year` of the decade. For example, 1960 is the first year of the 1960's decade. You should see that these countries contain most of the world's population.\n",
    "\n",
    "*Hint:* One approach is to define a function `pop_for_year` that computes this total population, then `apply` it to the `decade` column. "
   ]
  },
  {
   "cell_type": "code",
   "execution_count": null,
   "metadata": {
    "deletable": false
   },
   "outputs": [],
   "source": [
    "decades = pd.DataFrame({\n",
    "    'decade': np.arange(1960, 2011, 10)\n",
    "    }\n",
    ")\n",
    "\n",
    "def pop_for_year(year):\n",
    "    ...\n",
    "\n",
    "pop_by_decade = ..."
   ]
  },
  {
   "cell_type": "code",
   "execution_count": 56,
   "metadata": {
    "deletable": false
   },
   "outputs": [
    {
     "data": {
      "text/html": [
       "<div>\n",
       "<style scoped>\n",
       "    .dataframe tbody tr th:only-of-type {\n",
       "        vertical-align: middle;\n",
       "    }\n",
       "\n",
       "    .dataframe tbody tr th {\n",
       "        vertical-align: top;\n",
       "    }\n",
       "\n",
       "    .dataframe thead th {\n",
       "        text-align: right;\n",
       "    }\n",
       "</style>\n",
       "<table border=\"1\" class=\"dataframe\">\n",
       "  <thead>\n",
       "    <tr style=\"text-align: right;\">\n",
       "      <th></th>\n",
       "      <th>decade</th>\n",
       "      <th>population</th>\n",
       "    </tr>\n",
       "  </thead>\n",
       "  <tbody>\n",
       "    <tr>\n",
       "      <th>0</th>\n",
       "      <td>1960</td>\n",
       "      <td>2624944597</td>\n",
       "    </tr>\n",
       "    <tr>\n",
       "      <th>1</th>\n",
       "      <td>1970</td>\n",
       "      <td>3211487418</td>\n",
       "    </tr>\n",
       "    <tr>\n",
       "      <th>2</th>\n",
       "      <td>1980</td>\n",
       "      <td>3880722003</td>\n",
       "    </tr>\n",
       "    <tr>\n",
       "      <th>3</th>\n",
       "      <td>1990</td>\n",
       "      <td>4648434558</td>\n",
       "    </tr>\n",
       "    <tr>\n",
       "      <th>4</th>\n",
       "      <td>2000</td>\n",
       "      <td>5367553063</td>\n",
       "    </tr>\n",
       "    <tr>\n",
       "      <th>5</th>\n",
       "      <td>2010</td>\n",
       "      <td>6040810517</td>\n",
       "    </tr>\n",
       "  </tbody>\n",
       "</table>\n",
       "</div>"
      ],
      "text/plain": [
       "   decade  population\n",
       "0    1960  2624944597\n",
       "1    1970  3211487418\n",
       "2    1980  3880722003\n",
       "3    1990  4648434558\n",
       "4    2000  5367553063\n",
       "5    2010  6040810517"
      ]
     },
     "execution_count": 56,
     "metadata": {},
     "output_type": "execute_result"
    }
   ],
   "source": [
    "decades = pd.DataFrame({\n",
    "    'decade': np.arange(1960, 2011, 10)  # First we need to creat  a data frame with decades... Generate years: 1960, 1970, ..., 2010\n",
    "})\n",
    "\n",
    "# Then we need to define the function to calculate total population for a year\n",
    "def pop_for_year(year):\n",
    "    \"\"\"\n",
    "    Calculate the total population for the given year from stats_for_year.\n",
    "    \"\"\"\n",
    "    # We need to use the stats_for_year function and sum up the 'population_total' column\n",
    "    return stats_for_year(year)['population_total'].sum()\n",
    "\n",
    "# Then we need to apply the function to the 'decade' column and create a new column 'population'\n",
    "pop_by_decade = decades.copy()\n",
    "pop_by_decade['population'] = pop_by_decade['decade'].apply(pop_for_year)\n",
    "\n",
    "\n",
    "pop_by_decade #show the data"
   ]
  },
  {
   "cell_type": "markdown",
   "metadata": {
    "deletable": false,
    "editable": false
   },
   "source": [
    "The `countries` table describes various characteristics of countries. The `country` column contains the same codes as the `geo` column in each of the other data tables (`population`, `fertility`, and `child_mortality`). The `world_6region` column classifies each country into a region of the world. Run the cell below to inspect the data."
   ]
  },
  {
   "cell_type": "code",
   "execution_count": 57,
   "metadata": {
    "deletable": false
   },
   "outputs": [
    {
     "data": {
      "text/html": [
       "<div>\n",
       "<style scoped>\n",
       "    .dataframe tbody tr th:only-of-type {\n",
       "        vertical-align: middle;\n",
       "    }\n",
       "\n",
       "    .dataframe tbody tr th {\n",
       "        vertical-align: top;\n",
       "    }\n",
       "\n",
       "    .dataframe thead th {\n",
       "        text-align: right;\n",
       "    }\n",
       "</style>\n",
       "<table border=\"1\" class=\"dataframe\">\n",
       "  <thead>\n",
       "    <tr style=\"text-align: right;\">\n",
       "      <th></th>\n",
       "      <th>country</th>\n",
       "      <th>name</th>\n",
       "      <th>world_6region</th>\n",
       "    </tr>\n",
       "  </thead>\n",
       "  <tbody>\n",
       "    <tr>\n",
       "      <th>0</th>\n",
       "      <td>abkh</td>\n",
       "      <td>Abkhazia</td>\n",
       "      <td>europe_central_asia</td>\n",
       "    </tr>\n",
       "    <tr>\n",
       "      <th>1</th>\n",
       "      <td>afg</td>\n",
       "      <td>Afghanistan</td>\n",
       "      <td>south_asia</td>\n",
       "    </tr>\n",
       "    <tr>\n",
       "      <th>2</th>\n",
       "      <td>akr_a_dhe</td>\n",
       "      <td>Akrotiri and Dhekelia</td>\n",
       "      <td>europe_central_asia</td>\n",
       "    </tr>\n",
       "    <tr>\n",
       "      <th>3</th>\n",
       "      <td>alb</td>\n",
       "      <td>Albania</td>\n",
       "      <td>europe_central_asia</td>\n",
       "    </tr>\n",
       "    <tr>\n",
       "      <th>4</th>\n",
       "      <td>dza</td>\n",
       "      <td>Algeria</td>\n",
       "      <td>middle_east_north_africa</td>\n",
       "    </tr>\n",
       "    <tr>\n",
       "      <th>...</th>\n",
       "      <td>...</td>\n",
       "      <td>...</td>\n",
       "      <td>...</td>\n",
       "    </tr>\n",
       "    <tr>\n",
       "      <th>270</th>\n",
       "      <td>yem</td>\n",
       "      <td>Yemen</td>\n",
       "      <td>middle_east_north_africa</td>\n",
       "    </tr>\n",
       "    <tr>\n",
       "      <th>271</th>\n",
       "      <td>yug</td>\n",
       "      <td>Yugoslavia</td>\n",
       "      <td>europe_central_asia</td>\n",
       "    </tr>\n",
       "    <tr>\n",
       "      <th>272</th>\n",
       "      <td>zmb</td>\n",
       "      <td>Zambia</td>\n",
       "      <td>sub_saharan_africa</td>\n",
       "    </tr>\n",
       "    <tr>\n",
       "      <th>273</th>\n",
       "      <td>zwe</td>\n",
       "      <td>Zimbabwe</td>\n",
       "      <td>sub_saharan_africa</td>\n",
       "    </tr>\n",
       "    <tr>\n",
       "      <th>274</th>\n",
       "      <td>ala</td>\n",
       "      <td>Åland</td>\n",
       "      <td>europe_central_asia</td>\n",
       "    </tr>\n",
       "  </tbody>\n",
       "</table>\n",
       "<p>275 rows × 3 columns</p>\n",
       "</div>"
      ],
      "text/plain": [
       "       country                   name             world_6region\n",
       "0         abkh               Abkhazia       europe_central_asia\n",
       "1          afg            Afghanistan                south_asia\n",
       "2    akr_a_dhe  Akrotiri and Dhekelia       europe_central_asia\n",
       "3          alb                Albania       europe_central_asia\n",
       "4          dza                Algeria  middle_east_north_africa\n",
       "..         ...                    ...                       ...\n",
       "270        yem                  Yemen  middle_east_north_africa\n",
       "271        yug             Yugoslavia       europe_central_asia\n",
       "272        zmb                 Zambia        sub_saharan_africa\n",
       "273        zwe               Zimbabwe        sub_saharan_africa\n",
       "274        ala                  Åland       europe_central_asia\n",
       "\n",
       "[275 rows x 3 columns]"
      ]
     },
     "execution_count": 57,
     "metadata": {},
     "output_type": "execute_result"
    }
   ],
   "source": [
    "countries = pd.read_csv('../datasets/countries.csv')\n",
    "countries[['country', 'name', 'world_6region']]"
   ]
  },
  {
   "cell_type": "markdown",
   "metadata": {
    "deletable": false,
    "editable": false
   },
   "source": [
    "## 2. Global Poverty\n"
   ]
  },
  {
   "cell_type": "markdown",
   "metadata": {
    "deletable": false,
    "editable": false
   },
   "source": [
    "In 1800, 85% of the world's 1 billion people lived in *extreme poverty*, defined by the United Nations as \"a condition characterized by severe deprivation of basic human needs, including food, safe drinking water, sanitation facilities, health, shelter, education and information.\" A common measure of extreme poverty is a person living on less than \\$1.25 per day.\n",
    "\n",
    "In 2015, the proportion of people living in extreme poverty was estimated to be 12%. Although the world rate of extreme poverty has declined consistently for hundreds of years, the number of people living in extreme poverty is still close to 1 billion. The United Nations recently adopted an [ambitious goal](http://www.un.org/sustainabledevelopment/poverty/): \"By 2030, eradicate extreme poverty for all people everywhere.\"\n",
    "In this section, we will examine extreme poverty trends around the world."
   ]
  },
  {
   "cell_type": "markdown",
   "metadata": {
    "deletable": false,
    "editable": false
   },
   "source": [
    "First, load the population and poverty rate by country and year and the country descriptions. While the `population` table has values for every recent year for many countries, the `poverty` table only includes certain years for each country in which a measurement of the rate of extreme poverty was available."
   ]
  },
  {
   "cell_type": "code",
   "execution_count": 58,
   "metadata": {
    "deletable": false
   },
   "outputs": [
    {
     "data": {
      "text/html": [
       "<div>\n",
       "<style scoped>\n",
       "    .dataframe tbody tr th:only-of-type {\n",
       "        vertical-align: middle;\n",
       "    }\n",
       "\n",
       "    .dataframe tbody tr th {\n",
       "        vertical-align: top;\n",
       "    }\n",
       "\n",
       "    .dataframe thead th {\n",
       "        text-align: right;\n",
       "    }\n",
       "</style>\n",
       "<table border=\"1\" class=\"dataframe\">\n",
       "  <thead>\n",
       "    <tr style=\"text-align: right;\">\n",
       "      <th></th>\n",
       "      <th>geo</th>\n",
       "      <th>time</th>\n",
       "      <th>population_total</th>\n",
       "    </tr>\n",
       "  </thead>\n",
       "  <tbody>\n",
       "    <tr>\n",
       "      <th>0</th>\n",
       "      <td>abw</td>\n",
       "      <td>1800</td>\n",
       "      <td>19286</td>\n",
       "    </tr>\n",
       "    <tr>\n",
       "      <th>1</th>\n",
       "      <td>abw</td>\n",
       "      <td>1801</td>\n",
       "      <td>19286</td>\n",
       "    </tr>\n",
       "    <tr>\n",
       "      <th>2</th>\n",
       "      <td>abw</td>\n",
       "      <td>1802</td>\n",
       "      <td>19286</td>\n",
       "    </tr>\n",
       "    <tr>\n",
       "      <th>3</th>\n",
       "      <td>abw</td>\n",
       "      <td>1803</td>\n",
       "      <td>19286</td>\n",
       "    </tr>\n",
       "    <tr>\n",
       "      <th>4</th>\n",
       "      <td>abw</td>\n",
       "      <td>1804</td>\n",
       "      <td>19286</td>\n",
       "    </tr>\n",
       "  </tbody>\n",
       "</table>\n",
       "</div>"
      ],
      "text/plain": [
       "   geo  time  population_total\n",
       "0  abw  1800             19286\n",
       "1  abw  1801             19286\n",
       "2  abw  1802             19286\n",
       "3  abw  1803             19286\n",
       "4  abw  1804             19286"
      ]
     },
     "execution_count": 58,
     "metadata": {},
     "output_type": "execute_result"
    }
   ],
   "source": [
    "population = pd.read_csv('../datasets/population.csv')\n",
    "# NOTE: The code here below is 'pseudo-code' and you have to modify it in order to have it working accordingly\n",
    "population.head(5)"
   ]
  },
  {
   "cell_type": "code",
   "execution_count": 59,
   "metadata": {},
   "outputs": [
    {
     "name": "stdout",
     "output_type": "stream",
     "text": [
      "<class 'pandas.core.frame.DataFrame'>\n",
      "Index: 255 entries, 1 to 274\n",
      "Data columns (total 29 columns):\n",
      " #   Column                  Non-Null Count  Dtype  \n",
      "---  ------                  --------------  -----  \n",
      " 0   country                 255 non-null    object \n",
      " 1   gwid                    254 non-null    object \n",
      " 2   name                    255 non-null    object \n",
      " 3   world_6region           254 non-null    object \n",
      " 4   income_groups           213 non-null    object \n",
      " 5   landlocked              254 non-null    object \n",
      " 6   g77_and_oecd_countries  253 non-null    object \n",
      " 7   main_religion_2008      216 non-null    object \n",
      " 8   gapminder_list          254 non-null    object \n",
      " 9   alternative_1           69 non-null     object \n",
      " 10  alternative_2           37 non-null     object \n",
      " 11  alternative_3           23 non-null     object \n",
      " 12  alternative_4_cdiac     215 non-null    object \n",
      " 13  pandg                   147 non-null    object \n",
      " 14  god_id                  254 non-null    object \n",
      " 15  alt_5                   19 non-null     object \n",
      " 16  upper_case_name         239 non-null    object \n",
      " 17  code                    231 non-null    object \n",
      " 18  number                  231 non-null    float64\n",
      " 19  arb1                    21 non-null     object \n",
      " 20  arb2                    8 non-null      object \n",
      " 21  arb3                    3 non-null      object \n",
      " 22  arb4                    3 non-null      object \n",
      " 23  arb5                    1 non-null      object \n",
      " 24  arb6                    1 non-null      object \n",
      " 25  is--country             255 non-null    bool   \n",
      " 26  world_4region           255 non-null    object \n",
      " 27  latitude                238 non-null    float64\n",
      " 28  longitude               238 non-null    float64\n",
      "dtypes: bool(1), float64(3), object(25)\n",
      "memory usage: 58.0+ KB\n"
     ]
    }
   ],
   "source": [
    "countries =  pd.read_csv('../datasets/countries.csv')\n",
    "countries = countries[countries['country'].isin(population.geo.unique())]\n",
    "countries.info()"
   ]
  },
  {
   "cell_type": "code",
   "execution_count": 60,
   "metadata": {},
   "outputs": [
    {
     "data": {
      "text/html": [
       "<div>\n",
       "<style scoped>\n",
       "    .dataframe tbody tr th:only-of-type {\n",
       "        vertical-align: middle;\n",
       "    }\n",
       "\n",
       "    .dataframe tbody tr th {\n",
       "        vertical-align: top;\n",
       "    }\n",
       "\n",
       "    .dataframe thead th {\n",
       "        text-align: right;\n",
       "    }\n",
       "</style>\n",
       "<table border=\"1\" class=\"dataframe\">\n",
       "  <thead>\n",
       "    <tr style=\"text-align: right;\">\n",
       "      <th></th>\n",
       "      <th>geo</th>\n",
       "      <th>time</th>\n",
       "      <th>extreme_poverty_percent_people_below_125_a_day</th>\n",
       "    </tr>\n",
       "  </thead>\n",
       "  <tbody>\n",
       "    <tr>\n",
       "      <th>51</th>\n",
       "      <td>aus</td>\n",
       "      <td>2001</td>\n",
       "      <td>1.35</td>\n",
       "    </tr>\n",
       "    <tr>\n",
       "      <th>550</th>\n",
       "      <td>jam</td>\n",
       "      <td>1988</td>\n",
       "      <td>3.97</td>\n",
       "    </tr>\n",
       "    <tr>\n",
       "      <th>817</th>\n",
       "      <td>per</td>\n",
       "      <td>2011</td>\n",
       "      <td>2.97</td>\n",
       "    </tr>\n",
       "  </tbody>\n",
       "</table>\n",
       "</div>"
      ],
      "text/plain": [
       "     geo  time  extreme_poverty_percent_people_below_125_a_day\n",
       "51   aus  2001                                            1.35\n",
       "550  jam  1988                                            3.97\n",
       "817  per  2011                                            2.97"
      ]
     },
     "execution_count": 60,
     "metadata": {},
     "output_type": "execute_result"
    }
   ],
   "source": [
    "poverty = pd.read_csv('../datasets/poverty.csv')\n",
    "poverty.sample(3)"
   ]
  },
  {
   "cell_type": "markdown",
   "metadata": {
    "deletable": false,
    "editable": false
   },
   "source": [
    "**Question 11.** Assign `latest` to a three-column table with one row for each country that appears in the `poverty` table. The first column should contain the 3-letter code for the country. The second column should contain the *most recent year* for which an extreme poverty rate is available for the country. The third column should contain the poverty rate in that year. **Do not change the last line, so that the labels of your table are set correctly.**\n",
    "\n",
    "*Hint*: the `first` function may be helpful, but you are not required to use it."
   ]
  },
  {
   "cell_type": "code",
   "execution_count": null,
   "metadata": {
    "deletable": false
   },
   "outputs": [],
   "source": [
    "def first(values):\n",
    "    return values.item(0)\n",
    "\n",
    "latest = ...\n",
    "\n",
    "# This line **should** work as it is, but you can change it\n",
    "# as you see fit\n",
    "latest.rename(\n",
    "    columns={0: 'geo', 1: 'time', 2: 'poverty_percent'}\n",
    ")"
   ]
  },
  {
   "cell_type": "code",
   "execution_count": null,
   "metadata": {
    "deletable": false
   },
   "outputs": [],
   "source": []
  },
  {
   "cell_type": "markdown",
   "metadata": {
    "deletable": false,
    "editable": false
   },
   "source": [
    "**Question 12.** Using both `latest` and `population`, create a four-column table called `recent` with one row for each country in `latest`. The four columns should have the following labels and contents:\n",
    "1. `geo` contains the 3-letter country code,\n",
    "1. `poverty_percent` contains the most recent poverty percent,\n",
    "1. `population_total` contains the population of the country in 2010,\n",
    "1. `poverty_total` contains the number of people in poverty **rounded to the nearest integer**, based on the 2010 population and most recent poverty rate."
   ]
  },
  {
   "cell_type": "code",
   "execution_count": null,
   "metadata": {
    "deletable": false
   },
   "outputs": [],
   "source": [
    "poverty_and_pop = ...\n",
    "recent = ...\n",
    "recent"
   ]
  },
  {
   "cell_type": "code",
   "execution_count": null,
   "metadata": {
    "deletable": false
   },
   "outputs": [],
   "source": []
  },
  {
   "cell_type": "markdown",
   "metadata": {
    "deletable": false,
    "editable": false
   },
   "source": [
    "**Question 13.** Assuming that the `poverty_total` numbers in the `recent` table describe *all* people in 2010 living in extreme poverty, assign the name `poverty_percent` to the percentage of the world's 2010 population that were living in extreme poverty. You should find a number that is somewhat above the 2015 global estimate of 12%, since many country-specific poverty rates are older than 2015.\n",
    "\n",
    "*Hint*: The sum of the `population_total` column in the `recent` table is not the world population, because only a subset of the world's countries have known poverty rates. Use the `population` table to compute the world's 2010 total population."
   ]
  },
  {
   "cell_type": "code",
   "execution_count": null,
   "metadata": {
    "deletable": false
   },
   "outputs": [],
   "source": [
    "poverty_percent = ...\n",
    "poverty_percent"
   ]
  },
  {
   "cell_type": "code",
   "execution_count": null,
   "metadata": {
    "deletable": false
   },
   "outputs": [],
   "source": []
  },
  {
   "cell_type": "markdown",
   "metadata": {
    "deletable": false,
    "editable": false
   },
   "source": [
    "The `countries` table includes not only the name and region of countries, but also their positions on the globe."
   ]
  },
  {
   "cell_type": "code",
   "execution_count": null,
   "metadata": {
    "deletable": false
   },
   "outputs": [],
   "source": [
    "countries[['country', 'name', 'world_4region', 'latitude', 'longitude']]"
   ]
  },
  {
   "cell_type": "markdown",
   "metadata": {
    "deletable": false,
    "editable": false
   },
   "source": [
    "**You're finished!** Congratulations on mastering data visualization and table manipulation. Time to submit."
   ]
  }
 ],
 "metadata": {
  "kernelspec": {
   "display_name": "Python 3 (ipykernel)",
   "language": "python",
   "name": "python3"
  },
  "language_info": {
   "codemirror_mode": {
    "name": "ipython",
    "version": 3
   },
   "file_extension": ".py",
   "mimetype": "text/x-python",
   "name": "python",
   "nbconvert_exporter": "python",
   "pygments_lexer": "ipython3",
   "version": "3.12.7"
  }
 },
 "nbformat": 4,
 "nbformat_minor": 1
}
