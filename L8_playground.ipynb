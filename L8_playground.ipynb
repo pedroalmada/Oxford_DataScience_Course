{
 "cells": [
  {
   "cell_type": "code",
   "execution_count": 5,
   "metadata": {},
   "outputs": [
    {
     "name": "stdout",
     "output_type": "stream",
     "text": [
      "Hi Cristian\n",
      "None\n",
      "<__main__.Student object at 0x10a0ea610>\n"
     ]
    }
   ],
   "source": [
    "class Student:\n",
    "    def print_name(self):\n",
    "        print('Hi Cristian')\n",
    "\n",
    "obj = Student()\n",
    "print(obj.print_name())\n",
    "print(obj)\n"
   ]
  },
  {
   "cell_type": "code",
   "execution_count": 7,
   "metadata": {},
   "outputs": [
    {
     "name": "stdout",
     "output_type": "stream",
     "text": [
      "Hi Cristian\n",
      "None\n"
     ]
    }
   ],
   "source": [
    "out = obj.print_name()\n",
    "print(out)"
   ]
  },
  {
   "cell_type": "code",
   "execution_count": 8,
   "metadata": {},
   "outputs": [
    {
     "name": "stdout",
     "output_type": "stream",
     "text": [
      "<__main__.Student object at 0x10a1c5460>\n",
      "<__main__.Student object at 0x10a1cd220>\n"
     ]
    }
   ],
   "source": [
    "Sam = Student()\n",
    "Robert = Student()\n",
    "print(Sam)\n",
    "print(Robert)\n"
   ]
  },
  {
   "cell_type": "code",
   "execution_count": 13,
   "metadata": {},
   "outputs": [],
   "source": [
    "class Student:\n",
    "    def set_name(self, a_name):\n",
    "        self.name = a_name\n",
    "george = Student()"
   ]
  },
  {
   "cell_type": "code",
   "execution_count": 14,
   "metadata": {},
   "outputs": [],
   "source": [
    "george.set_name('george')"
   ]
  },
  {
   "cell_type": "code",
   "execution_count": 15,
   "metadata": {},
   "outputs": [
    {
     "data": {
      "text/plain": [
       "'george'"
      ]
     },
     "execution_count": 15,
     "metadata": {},
     "output_type": "execute_result"
    }
   ],
   "source": [
    "george.name"
   ]
  },
  {
   "cell_type": "code",
   "execution_count": 25,
   "metadata": {},
   "outputs": [
    {
     "name": "stdout",
     "output_type": "stream",
     "text": [
      "What kind of car are you?\n",
      "I am a fast car\n"
     ]
    }
   ],
   "source": [
    "class Cars:\n",
    "    \n",
    "    color = 'red'\n",
    "    length = 3\n",
    "\n",
    "    def print_message(self):\n",
    "        print('What kind of car are you?')\n",
    "        print('I am a fast car')\n",
    "\n",
    "honda = Cars()\n",
    "honda.color\n",
    "honda.print_message()"
   ]
  },
  {
   "cell_type": "code",
   "execution_count": 30,
   "metadata": {},
   "outputs": [
    {
     "name": "stdout",
     "output_type": "stream",
     "text": [
      "white\n"
     ]
    }
   ],
   "source": [
    "class Car:\n",
    "    def __init__(self, a_color, a_length):\n",
    "        self.color = a_color\n",
    "        self.length = a_length\n",
    "    \n",
    "    def change_color(self, new_color):\n",
    "        self.color = new_color\n",
    "\n",
    "    def print_message(self):\n",
    "        print('What kind of car are you?')\n",
    "        print('I am a fast car')\n",
    "\n",
    "bmw = Car('blue', 4)\n",
    "bmw.change_color('white')\n",
    "\n",
    "print(bmw.color)\n",
    "\n"
   ]
  },
  {
   "cell_type": "code",
   "execution_count": 29,
   "metadata": {},
   "outputs": [
    {
     "data": {
      "text/plain": [
       "4"
      ]
     },
     "execution_count": 29,
     "metadata": {},
     "output_type": "execute_result"
    }
   ],
   "source": [
    "bmw.length"
   ]
  },
  {
   "cell_type": "code",
   "execution_count": 36,
   "metadata": {},
   "outputs": [
    {
     "data": {
      "text/plain": [
       "'red'"
      ]
     },
     "execution_count": 36,
     "metadata": {},
     "output_type": "execute_result"
    }
   ],
   "source": [
    "class Car:\n",
    "    \n",
    "    color = 'red'\n",
    "    length = 3\n",
    "\n",
    "    def __init__(self):\n",
    "        self.color = 'red'\n",
    "        self.length = 3\n",
    "\n",
    "    def _print_message(self):\n",
    "        print('What kind of car are you?')\n",
    "        print('I am a fast car')\n",
    "\n",
    "    def print_another_message(self):\n",
    "        print('What kind of car are you?')\n",
    "        print('I am a fast car')\n",
    "\n",
    "bmw = Car()\n",
    "bmw.color"
   ]
  },
  {
   "cell_type": "code",
   "execution_count": 37,
   "metadata": {},
   "outputs": [
    {
     "name": "stdout",
     "output_type": "stream",
     "text": [
      "What kind of car are you?\n",
      "I am a fast car\n",
      "What kind of car are you?\n",
      "I am a fast car\n"
     ]
    }
   ],
   "source": [
    "bmw._print_message()\n",
    "bmw.print_another_message()"
   ]
  },
  {
   "cell_type": "code",
   "execution_count": 63,
   "metadata": {},
   "outputs": [
    {
     "name": "stdout",
     "output_type": "stream",
     "text": [
      "white\n"
     ]
    },
    {
     "data": {
      "text/plain": [
       "['_Car__color',\n",
       " '__class__',\n",
       " '__delattr__',\n",
       " '__dict__',\n",
       " '__dir__',\n",
       " '__doc__',\n",
       " '__eq__',\n",
       " '__format__',\n",
       " '__ge__',\n",
       " '__getattribute__',\n",
       " '__gt__',\n",
       " '__hash__',\n",
       " '__init__',\n",
       " '__init_subclass__',\n",
       " '__le__',\n",
       " '__lt__',\n",
       " '__module__',\n",
       " '__ne__',\n",
       " '__new__',\n",
       " '__print_color__',\n",
       " '__reduce__',\n",
       " '__reduce_ex__',\n",
       " '__repr__',\n",
       " '__setattr__',\n",
       " '__sizeof__',\n",
       " '__str__',\n",
       " '__subclasshook__',\n",
       " '__weakref__']"
      ]
     },
     "execution_count": 63,
     "metadata": {},
     "output_type": "execute_result"
    }
   ],
   "source": [
    "class Car:\n",
    "\n",
    "    def __init__(self, a_color):\n",
    "        self.__color = a_color\n",
    "    def __print_color__(self):\n",
    "        print(self.__color)\n",
    "\n",
    "    \n",
    "bmw = Car('white')\n",
    "#print(bmw._Car__color)\n",
    "bmw.__print_color__()\n",
    "dir(bmw)\n"
   ]
  },
  {
   "cell_type": "code",
   "execution_count": 71,
   "metadata": {},
   "outputs": [
    {
     "name": "stdout",
     "output_type": "stream",
     "text": [
      "I am a fast car\n"
     ]
    }
   ],
   "source": [
    "class Car:\n",
    "    def __init__(self, a_color, a_length):\n",
    "        self.color = a_color\n",
    "        self.length = a_length\n",
    "    \n",
    "    def change_color(self, new_color):\n",
    "        self.color = new_color\n",
    "\n",
    "    def print_message(self):\n",
    "        print('I am a fast car')\n",
    "\n",
    "class SUV(Car):\n",
    "    def print_message1(self):\n",
    "        super().print_message()\n",
    "\n",
    "\n",
    "rangeR = SUV('black', 4)\n",
    "rangeR.print_message1()"
   ]
  },
  {
   "cell_type": "code",
   "execution_count": 77,
   "metadata": {},
   "outputs": [
    {
     "data": {
      "text/plain": [
       "3"
      ]
     },
     "execution_count": 77,
     "metadata": {},
     "output_type": "execute_result"
    }
   ],
   "source": [
    "class Student:\n",
    "    def __init__(self, name):\n",
    "        self.name = name\n",
    "\n",
    "class PartTimeStudent(Student):\n",
    "    age = 23\n",
    "    def __init__(self, name, hours):\n",
    "        super().__init__(name)\n",
    "        self.hours = hours\n",
    "\n",
    "John = PartTimeStudent('John', 3)\n",
    "John.hours"
   ]
  },
  {
   "cell_type": "code",
   "execution_count": null,
   "metadata": {},
   "outputs": [],
   "source": []
  }
 ],
 "metadata": {
  "kernelspec": {
   "display_name": "Python 3",
   "language": "python",
   "name": "python3"
  },
  "language_info": {
   "codemirror_mode": {
    "name": "ipython",
    "version": 3
   },
   "file_extension": ".py",
   "mimetype": "text/x-python",
   "name": "python",
   "nbconvert_exporter": "python",
   "pygments_lexer": "ipython3",
   "version": "3.9.4"
  }
 },
 "nbformat": 4,
 "nbformat_minor": 2
}
