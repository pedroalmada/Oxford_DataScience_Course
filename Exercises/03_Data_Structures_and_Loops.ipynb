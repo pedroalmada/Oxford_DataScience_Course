{
 "cells": [
  {
   "cell_type": "markdown",
   "metadata": {},
   "source": [
    "# Exercise 3: Data Structures, Functions and Loops\n",
    "\n",
    "In this week's exercise, you'll learn how to:\n",
    "\n",
    "1. write functions that manipulate data structures such as lists and dictionaries\n",
    "2. master list comprehension and dict comprehension\n",
    "3. compute operations on matrices represented as lists of lists"
   ]
  },
  {
   "cell_type": "markdown",
   "metadata": {},
   "source": [
    "## Lists"
   ]
  },
  {
   "cell_type": "markdown",
   "metadata": {},
   "source": [
    "### 3.1 Write a Python function to sum all the numbers in a list.\n",
    "\n",
    "Write a function to sum all number in a list without using the `sum()` built-in method. Hint: use a `for..in` cycle instead.\n",
    "\n",
    "Sample list: `[9, 12, 7, 19]`\n",
    "\n",
    "Expected output: 47"
   ]
  },
  {
   "cell_type": "code",
   "execution_count": 2,
   "metadata": {},
   "outputs": [
    {
     "name": "stdout",
     "output_type": "stream",
     "text": [
      "The sum of the numbers in the list [9, 12, 7, 19] is: 47\n"
     ]
    }
   ],
   "source": [
    "# Write your function here:\n",
    "# Hint: do not use the name `sum` for your function because it would overwrite the built-in sum() method\n",
    "# Defining the function\n",
    "def sum_numbers(numbers):\n",
    "    # Initializing a variable to store the sum\n",
    "    total = 0\n",
    "    \n",
    "    # Iterating through the list\n",
    "    for num in numbers:\n",
    "        total += num  # Adds each number to the total\n",
    "    \n",
    "    return total  # This returns the computed sum\n",
    "\n",
    "# Test\n",
    "sample_list = [9, 12, 7, 19]\n",
    "result = sum_numbers(sample_list)\n",
    "\n",
    "# printing the Results \n",
    "print(f\"The sum of the numbers in the list {sample_list} is: {result}\")"
   ]
  },
  {
   "cell_type": "code",
   "execution_count": 5,
   "metadata": {},
   "outputs": [
    {
     "name": "stdout",
     "output_type": "stream",
     "text": [
      "The sum of the numbers in the list [9, 12, 7, 19] is: 47\n"
     ]
    }
   ],
   "source": [
    "# Test your function here\n",
    "def sum_numbers(numbers):\n",
    "    # Initializing a variable to store the sum\n",
    "    total = 0\n",
    "    \n",
    "    # Iterating through the list\n",
    "    for num in numbers:\n",
    "        total += num  # Adds each number to the total\n",
    "    \n",
    "    return total  # This returns the computed sum\n",
    "\n",
    "# Test\n",
    "list = [9, 12, 7, 19]\n",
    "result = sum_numbers(list)\n",
    "\n",
    "# printing the Results \n",
    "print(f\"The sum of the numbers in the list {list} is: {result}\")\n"
   ]
  },
  {
   "cell_type": "markdown",
   "metadata": {},
   "source": [
    "### 3.2 Write a Python program to count the number of elements in a list within a specified range.\n",
    "\n",
    "Sample list: `[10,20,30,40,40,40,70,80,99]`\n",
    "\n",
    "Sample min: `15`\n",
    "\n",
    "Sample max: `50`\n",
    "\n",
    "Expected output: `5`"
   ]
  },
  {
   "cell_type": "code",
   "execution_count": 4,
   "metadata": {},
   "outputs": [
    {
     "data": {
      "text/plain": [
       "3"
      ]
     },
     "execution_count": 4,
     "metadata": {},
     "output_type": "execute_result"
    }
   ],
   "source": [
    "# Write your function here:\n",
    "sample_list=[10,20,30,40,40,40,70,80,99]\n",
    "sample_min=15\n",
    "sample_max=50\n",
    "sample_list.count(40)\n"
   ]
  },
  {
   "cell_type": "code",
   "execution_count": 5,
   "metadata": {},
   "outputs": [
    {
     "name": "stdout",
     "output_type": "stream",
     "text": [
      "The number of elements in the range 15 to 50 is: 5\n"
     ]
    }
   ],
   "source": [
    "# Define the function to count elements in the specified range\n",
    "def count_in_range(numbers, min_value, max_value):\n",
    "    count = 0  # Initialize a counter\n",
    "    for num in numbers:  # Iterate through the list\n",
    "        if min_value <= num <= max_value:  # Check if the number is in range\n",
    "            count += 1  # Increment the counter if it is\n",
    "    return count  # Return the final count\n",
    "\n",
    "# Sample list and range\n",
    "sample_list = [10, 20, 30, 40, 40, 40, 70, 80, 99]\n",
    "sample_min = 15\n",
    "sample_max = 50\n",
    "\n",
    "# Call the function and print the result\n",
    "result = count_in_range(sample_list, sample_min, sample_max)\n",
    "print(f\"The number of elements in the range {sample_min} to {sample_max} is: {result}\")\n"
   ]
  },
  {
   "cell_type": "code",
   "execution_count": 6,
   "metadata": {},
   "outputs": [
    {
     "name": "stdout",
     "output_type": "stream",
     "text": [
      "The number of elements in the range 15 to 50 is: 5\n"
     ]
    }
   ],
   "source": [
    "# Test your function here\n",
    "# Define the function to count elements in the specified range\n",
    "def count_in_range(numbers, min_value, max_value):\n",
    "    count = 0  # Initialize a counter\n",
    "    for num in numbers:  # Iterate through the list\n",
    "        if min_value <= num <= max_value:  # Check if the number is in range\n",
    "            count += 1  # Increment the counter if it is\n",
    "    return count  # Return the final count\n",
    "\n",
    "# Sample list and range\n",
    "sample_list = [10, 20, 30, 40, 40, 40, 70, 80, 99]\n",
    "sample_min = 15\n",
    "sample_max = 50\n",
    "\n",
    "# Call the function and print the result\n",
    "result = count_in_range(sample_list, sample_min, sample_max)\n",
    "print(f\"The number of elements in the range {sample_min} to {sample_max} is: {result}\")\n"
   ]
  },
  {
   "cell_type": "markdown",
   "metadata": {},
   "source": [
    "### 3.3 List Manipulation\n",
    "\n",
    "From the given list:\n",
    "\n",
    "```\n",
    "gadgets = [“Mobile”, “Laptop”, 100, “Camera”, 310.28, “Speakers”, 27.00,\n",
    "“Television”, 1000, “Laptop Case”, “Camera Lens”]\n",
    "```\n",
    "\n",
    "a)create separate lists of strings and numbers.\n",
    " \n",
    "b)Sort the strings list in ascending order\n",
    " \n",
    "c)Sort the strings list in descending order\n",
    " \n",
    "d)Sort the number list from lowest to highest\n",
    " \n",
    "e)Sort the number list from highest to lowest"
   ]
  },
  {
   "cell_type": "code",
   "execution_count": 3,
   "metadata": {},
   "outputs": [
    {
     "name": "stdout",
     "output_type": "stream",
     "text": [
      "['Mobile', 'Laptop', 'Camera', 'Speakers', 'Television', 'Laptop Case', 'Camera Lens']\n",
      "[100, 310.28, 27.0, 1000]\n",
      "['Camera', 'Camera Lens', 'Laptop', 'Laptop Case', 'Mobile', 'Speakers', 'Television']\n"
     ]
    }
   ],
   "source": [
    "# Write your solution here:\n",
    "\n",
    "gadgets = [\"Mobile\", \"Laptop\", 100, \"Camera\", 310.28, \"Speakers\", 27.00, \n",
    "           \"Television\", 1000, \"Laptop Case\", \"Camera Lens\"]\n",
    " \n",
    "\n",
    "# Write your solutions here \n",
    " \n",
    "# a)creating separate lists\n",
    "\n",
    "string_list = []\n",
    "number_list = []\n",
    "for item in gadgets:\n",
    "    if isinstance(item, str):\n",
    "        string_list.append(item)\n",
    "    elif isinstance(item, (int, float)):\n",
    "        number_list.append(item)    \n",
    "print(string_list)\n",
    "print(number_list)\n",
    " \n",
    "# b)sorting strings list in ascending order, a-z\n",
    "\n",
    "string_list.sort()\n",
    "print(string_list)\n",
    "\n",
    "number_list.sort()\n",
    "print(number_list)\n",
    "\n",
    "# c)sorting strings list in descending order z-a\n",
    "  \n",
    "# d)sorting number list from lowest to highest\n",
    " \n",
    "# e)sorting number list from highest to lowest\n",
    " "
   ]
  },
  {
   "cell_type": "code",
   "execution_count": 1,
   "metadata": {},
   "outputs": [
    {
     "name": "stdout",
     "output_type": "stream",
     "text": [
      "Strings List: ['Mobile', 'Laptop', 'Camera', 'Speakers', 'Television', 'Laptop Case', 'Camera Lens']\n",
      "Numbers List: [100, 310.28, 27.0, 1000]\n",
      "Strings List (Ascending): ['Camera', 'Camera Lens', 'Laptop', 'Laptop Case', 'Mobile', 'Speakers', 'Television']\n",
      "Strings List (Descending): ['Television', 'Speakers', 'Mobile', 'Laptop Case', 'Laptop', 'Camera Lens', 'Camera']\n",
      "Numbers List (Ascending): [27.0, 100, 310.28, 1000]\n",
      "Numbers List (Descending): [1000, 310.28, 100, 27.0]\n"
     ]
    }
   ],
   "source": [
    "# Given list\n",
    "gadgets = [\"Mobile\", \"Laptop\", 100, \"Camera\", 310.28, \"Speakers\", 27.00, \n",
    "           \"Television\", 1000, \"Laptop Case\", \"Camera Lens\"]\n",
    "\n",
    "# a) Creating separate lists for strings and numbers\n",
    "string_list = []\n",
    "number_list = []\n",
    "\n",
    "for item in gadgets:\n",
    "    if isinstance(item, str):  # Check if the item is a string\n",
    "        string_list.append(item)\n",
    "    elif isinstance(item, (int, float)):  # Check if the item is a number\n",
    "        number_list.append(item)\n",
    "\n",
    "print(\"Strings List:\", string_list)\n",
    "print(\"Numbers List:\", number_list)\n",
    "\n",
    "# b) Sorting the strings list in ascending order (a-z)\n",
    "string_list.sort()\n",
    "print(\"Strings List (Ascending):\", string_list)\n",
    "\n",
    "# c) Sorting the strings list in descending order (z-a)\n",
    "string_list.sort(reverse=True)\n",
    "print(\"Strings List (Descending):\", string_list)\n",
    "\n",
    "# d) Sorting the number list from lowest to highest\n",
    "number_list.sort()\n",
    "print(\"Numbers List (Ascending):\", number_list)\n",
    "\n",
    "# e) Sorting the number list from highest to lowest\n",
    "number_list.sort(reverse=True)\n",
    "print(\"Numbers List (Descending):\", number_list)\n"
   ]
  },
  {
   "cell_type": "markdown",
   "metadata": {},
   "source": [
    "## Dictionaries\n",
    "\n"
   ]
  },
  {
   "cell_type": "markdown",
   "metadata": {},
   "source": [
    "### 3.4 Dictionary manipulation\n",
    "\n",
    "Write a function that takes a dictionary as input and retuns the mean (i.e. average value) of the values stored in the dictionary\n",
    "\n",
    "```\n",
    "Sample Dictionary = Life expectancy by country = {\n",
    "    'Japan': 83.7,\n",
    "    'Switzerland': 83.4,\n",
    "    'Singapore': 83.1,\n",
    "    'Italy': 82.7,\n",
    "    'Israel': 82.5,\n",
    "    'Netherlands': 81.9,\n",
    "    'United Kingdom': 81.2,\n",
    "    'Cyprus': 80.5,\n",
    "    'Chile': 80.5,\n",
    "    'United States: 79.3,\n",
    "    'Argentina': 76.3,\n",
    "    'Iran': 75.5,\n",
    "    'Jordan': 74.1,\n",
    "    'Russia': 70.5,\n",
    "    'Philippines': 68.5,\n",
    "    'India': 68.3\n",
    "}\n",
    "```"
   ]
  },
  {
   "cell_type": "code",
   "execution_count": 4,
   "metadata": {},
   "outputs": [],
   "source": [
    "# Write your function here:\n",
    "\n",
    "\n"
   ]
  },
  {
   "cell_type": "code",
   "execution_count": 3,
   "metadata": {},
   "outputs": [
    {
     "name": "stdout",
     "output_type": "stream",
     "text": [
      "The mean life expectancy is: 78.25\n"
     ]
    }
   ],
   "source": [
    "# Test your code here:\n",
    "# Define the function\n",
    "def calculate_mean(dictionary):\n",
    "    # Ensure the dictionary is not empty to avoid division by zero\n",
    "    if not dictionary:\n",
    "        return 0\n",
    "    \n",
    "    # Calculate the mean: sum of values divided by the number of values\n",
    "    mean_value = sum(dictionary.values()) / len(dictionary)\n",
    "    \n",
    "    return mean_value\n",
    "\n",
    "# Sample Dictionary: Life expectancy by country\n",
    "life_expectancy = {\n",
    "    'Japan': 83.7,\n",
    "    'Switzerland': 83.4,\n",
    "    'Singapore': 83.1,\n",
    "    'Italy': 82.7,\n",
    "    'Israel': 82.5,\n",
    "    'Netherlands': 81.9,\n",
    "    'United Kingdom': 81.2,\n",
    "    'Cyprus': 80.5,\n",
    "    'Chile': 80.5,\n",
    "    'United States': 79.3,\n",
    "    'Argentina': 76.3,\n",
    "    'Iran': 75.5,\n",
    "    'Jordan': 74.1,\n",
    "    'Russia': 70.5,\n",
    "    'Philippines': 68.5,\n",
    "    'India': 68.3\n",
    "}\n",
    "\n",
    "# Calculate and print the mean life expectancy\n",
    "mean_life_expectancy = calculate_mean(life_expectancy)\n",
    "print(f\"The mean life expectancy is: {mean_life_expectancy:.2f}\")\n"
   ]
  },
  {
   "cell_type": "markdown",
   "metadata": {},
   "source": [
    "### 3.5 Dictionary sorting\n",
    "\n",
    "Write a program that sorts by key in descending order (from Z to A) the dictionary of **exercise 3.4**. \n",
    "\n",
    "Hint: inspect the Python built-in functions (https://docs.python.org/3.7/library/functions.html)"
   ]
  },
  {
   "cell_type": "code",
   "execution_count": 20,
   "metadata": {},
   "outputs": [],
   "source": [
    "# Write your program here\n"
   ]
  },
  {
   "cell_type": "markdown",
   "metadata": {},
   "source": [
    "### 3.6 Lists to Dictionary\n",
    "\n",
    "Write a program (or function) that maps two lists into a dictionary\n",
    "\n",
    "Sample first list: ```['Japan', 'Italy', 'United Kingdom', 'Russia']```\n",
    "\n",
    "Sample second list: ```[83.7, 82.7, 81.2, 70.5]```"
   ]
  },
  {
   "cell_type": "code",
   "execution_count": 21,
   "metadata": {},
   "outputs": [],
   "source": [
    "# Write your program here\n"
   ]
  },
  {
   "cell_type": "code",
   "execution_count": 5,
   "metadata": {},
   "outputs": [
    {
     "name": "stdout",
     "output_type": "stream",
     "text": [
      "{'Japan': 83.7, 'Italy': 82.7, 'United Kingdom': 81.2, 'Russia': 70.5}\n"
     ]
    }
   ],
   "source": [
    "# Define the function to map two lists into a dictionary\n",
    "def lists_to_dict(keys, values):\n",
    "    # Use the zip function to pair keys and values, then convert to a dictionary\n",
    "    return dict(zip(keys, values))\n",
    "\n",
    "# Sample lists\n",
    "countries = ['Japan', 'Italy', 'United Kingdom', 'Russia']\n",
    "life_expectancies = [83.7, 82.7, 81.2, 70.5]\n",
    "\n",
    "# Call the function and create the dictionary\n",
    "country_life_expectancy = lists_to_dict(countries, life_expectancies)\n",
    "\n",
    "# Print the resulting dictionary\n",
    "print(country_life_expectancy)\n"
   ]
  },
  {
   "cell_type": "markdown",
   "metadata": {},
   "source": [
    "Explanation\n",
    "zip() Function:\n",
    "\n",
    "zip(keys, values) pairs each element in the keys list with the corresponding element in the values list.\n",
    "Example: zip(['Japan', 'Italy'], [83.7, 82.7]) produces [('Japan', 83.7), ('Italy', 82.7)].\n",
    "Convert to Dictionary:\n",
    "\n",
    "dict(zip(keys, values)) converts the paired elements into a dictionary.\n",
    "Flexible Input:\n",
    "\n",
    "The function works for any two lists of equal length. If the lengths are not equal, zip will only pair up to the shorter length."
   ]
  },
  {
   "cell_type": "markdown",
   "metadata": {},
   "source": [
    "## Tuples"
   ]
  },
  {
   "cell_type": "markdown",
   "metadata": {},
   "source": [
    "### 3.7 Write a Python program to get the 4th element and 4th element from last of a tuple.\n",
    "\n",
    "Sample input\n",
    "\n",
    "```\n",
    "tuplex = (\"we\", 3, \"are\", \"left\", 4.8, \"our\", \"u\", \"www.ox.ac.uk\", \"core\", \"empty\")\n",
    "```"
   ]
  },
  {
   "cell_type": "code",
   "execution_count": 22,
   "metadata": {},
   "outputs": [],
   "source": [
    "# Write your solution here \n"
   ]
  },
  {
   "cell_type": "code",
   "execution_count": 1,
   "metadata": {},
   "outputs": [
    {
     "name": "stdout",
     "output_type": "stream",
     "text": [
      "The 4th element is: left\n",
      "The 4th element from the last is: u\n"
     ]
    }
   ],
   "source": [
    "# Sample input tuple\n",
    "tuplex = (\"we\", 3, \"are\", \"left\", 4.8, \"our\", \"u\", \"www.ox.ac.uk\", \"core\", \"empty\")\n",
    "\n",
    "# Geting the 4th element (index 3, as indexing starts at 0)\n",
    "fourth_element = tuplex[3]\n",
    "\n",
    "# Get the 4th element from the last (index -4)\n",
    "fourth_from_last_element = tuplex[-4]\n",
    "\n",
    "# Print the results\n",
    "print(f\"The 4th element is: {fourth_element}\")\n",
    "print(f\"The 4th element from the last is: {fourth_from_last_element}\")\n"
   ]
  },
  {
   "cell_type": "markdown",
   "metadata": {},
   "source": [
    "Explanation\n",
    "4th Element:\n",
    "\n",
    "Indexing in Python starts at 0, so the 4th element is at index 3.\n",
    "tuplex[3] retrieves the element at this position.\n",
    "4th Element from the Last:\n",
    "\n",
    "Negative indexing allows counting from the end of the tuple.\n",
    "tuplex[-4] retrieves the 4th element from the last.\n",
    "Output:\n",
    "\n",
    "The program prints both the 4th element and the 4th element from the last."
   ]
  },
  {
   "cell_type": "markdown",
   "metadata": {},
   "source": [
    "### 3.8  Write a Python program to convert a list of tuples to a dictionary.\n",
    "\n",
    "Sample input: ```[(28, 'February'), (30, 'April'), (31, 'July'), (31, 'August'), (30, 'November')]```\n",
    "\n",
    "Sample output ```{'February': 28, 'April': 30, 'July': 31, 'August': 31, 'November': 30}```"
   ]
  },
  {
   "cell_type": "code",
   "execution_count": 23,
   "metadata": {},
   "outputs": [],
   "source": [
    "# Write your program here\n"
   ]
  },
  {
   "cell_type": "code",
   "execution_count": 2,
   "metadata": {},
   "outputs": [
    {
     "name": "stdout",
     "output_type": "stream",
     "text": [
      "{'February': 28, 'April': 30, 'July': 31, 'August': 31, 'November': 30}\n"
     ]
    }
   ],
   "source": [
    "# Sample input: list of tuples\n",
    "tuples_list = [(28, 'February'), (30, 'April'), (31, 'July'), (31, 'August'), (30, 'November')]\n",
    "\n",
    "# Convert the list of tuples to a dictionary\n",
    "# Use a dictionary comprehension where the second element of the tuple is the key and the first is the value\n",
    "result_dict = {month: days for days, month in tuples_list}\n",
    "\n",
    "# Print the resulting dictionary\n",
    "print(result_dict)\n"
   ]
  },
  {
   "cell_type": "markdown",
   "metadata": {},
   "source": [
    "Explanation\n",
    "Input List of Tuples:\n",
    "\n",
    "The list contains tuples where the first element is the value (number of days) and the second is the key (month).\n",
    "Dictionary Comprehension:\n",
    "\n",
    "{month: days for days, month in tuples_list}:\n",
    "Iterates over each tuple in the list.\n",
    "Assigns the second element (month) as the key.\n",
    "Assigns the first element (days) as the value.\n",
    "Output the Result:\n",
    "\n",
    "Prints the dictionary."
   ]
  },
  {
   "cell_type": "markdown",
   "metadata": {},
   "source": [
    "## `for` loops, list comprehension, dict comprehension"
   ]
  },
  {
   "cell_type": "markdown",
   "metadata": {},
   "source": [
    "### 3.9 List comprehension\n",
    "\n",
    "Rewrite the following code using list comprehension"
   ]
  },
  {
   "cell_type": "code",
   "execution_count": 24,
   "metadata": {},
   "outputs": [
    {
     "name": "stdout",
     "output_type": "stream",
     "text": [
      "['the', 'quick', 'brown', 'fox', 'jumps', 'over', 'the', 'lazy', 'dog']\n",
      "[5, 5, 3, 5, 4, 4, 3]\n"
     ]
    }
   ],
   "source": [
    "# Code to be rewritten\n",
    "\n",
    "sentence = \"the quick brown fox jumps over the lazy dog\"\n",
    "words = sentence.split()\n",
    "word_lengths = []\n",
    "for word in words:\n",
    "      if word != \"the\":\n",
    "          word_lengths.append(len(word))\n",
    "print(words)\n",
    "print(word_lengths)"
   ]
  },
  {
   "cell_type": "code",
   "execution_count": 1,
   "metadata": {},
   "outputs": [
    {
     "name": "stdout",
     "output_type": "stream",
     "text": [
      "['the', 'quick', 'brown', 'fox', 'jumps', 'over', 'the', 'lazy', 'dog']\n",
      "[5, 5, 3, 5, 4, 4, 3]\n"
     ]
    }
   ],
   "source": [
    "# Write your solution here\n",
    "# Original sentence\n",
    "sentence = \"the quick brown fox jumps over the lazy dog\"\n",
    "\n",
    "# List comprehension to compute word lengths, excluding the word \"the\"\n",
    "words = sentence.split()\n",
    "word_lengths = [len(word) for word in words if word != \"the\"]\n",
    "\n",
    "# Print the results\n",
    "print(words)\n",
    "print(word_lengths)\n"
   ]
  },
  {
   "cell_type": "markdown",
   "metadata": {},
   "source": [
    "Explanation\n",
    "Splitting the Sentence:\n",
    "\n",
    "words = sentence.split() splits the sentence into a list of words.\n",
    "List Comprehension:\n",
    "\n",
    "[len(word) for word in words if word != \"the\"]:\n",
    "Iterates over each word in words.\n",
    "Excludes the word \"the\" using the condition if word != \"the\".\n",
    "Appends the length of each remaining word (len(word)) to the word_lengths list.\n",
    "Printing Results:\n",
    "\n",
    "words: Contains all the words from the sentence.\n",
    "word_lengths: Contains the lengths of the words, excluding \"the\"."
   ]
  },
  {
   "cell_type": "markdown",
   "metadata": {},
   "source": [
    "### 3.10 List filtering\n",
    "\n",
    "Using a list comprehension, create a new list called \"newlist\" out of the list \"numbers\", which contains only the positive numbers from the list, as integers rounded to the closest integer value."
   ]
  },
  {
   "cell_type": "code",
   "execution_count": 26,
   "metadata": {},
   "outputs": [],
   "source": [
    "### Input\n",
    "\n",
    "numbers = [34.6, -203.4, 44.9, 68.3, -12.2, 44.6, 12.7]\n",
    "\n",
    "### Write your solution here\n"
   ]
  },
  {
   "cell_type": "code",
   "execution_count": 2,
   "metadata": {},
   "outputs": [
    {
     "name": "stdout",
     "output_type": "stream",
     "text": [
      "[35, 45, 68, 45, 13]\n"
     ]
    }
   ],
   "source": [
    "# Input list\n",
    "numbers = [34.6, -203.4, 44.9, 68.3, -12.2, 44.6, 12.7]\n",
    "\n",
    "# Using list comprehension to filter and round positive numbers\n",
    "newlist = [round(num) for num in numbers if num > 0]\n",
    "\n",
    "# Print the resulting list\n",
    "print(newlist)\n"
   ]
  },
  {
   "cell_type": "markdown",
   "metadata": {},
   "source": [
    "Explanation\n",
    "Filter Positive Numbers:\n",
    "\n",
    "The condition if num > 0 ensures only positive numbers from numbers are included.\n",
    "Round the Numbers:\n",
    "\n",
    "The round(num) function rounds the number to the nearest integer.\n",
    "List Comprehension:\n",
    "\n",
    "Combines the filtering and rounding in one line"
   ]
  },
  {
   "cell_type": "markdown",
   "metadata": {},
   "source": [
    "### 3.11 Matrix Element Wise-multiplication\n",
    "\n",
    "Matrices can be encoded as numerical two-dimensional lists\n",
    "Consider the two following matrices \n",
    "\n",
    "```\n",
    "mat_00 = [[1, 2, 3], [4, 5, 6], [7, 8, 9]]\n",
    "```\n",
    "and\n",
    "```\n",
    "mat_01 = [[1, 0, 0], [0, 1, 0], [0, 0, 1]]\n",
    "```\n",
    "\n",
    "Compute the element-wise multiplication of the two matrices, i.e.\n",
    "\n",
    "```\n",
    "mat_02 = [[1, 0, 0], [0, 5, 0], [0, 0, 9]]\n",
    "```"
   ]
  },
  {
   "cell_type": "code",
   "execution_count": 27,
   "metadata": {},
   "outputs": [],
   "source": [
    "mat_00 = [[1, 2, 3], [4, 5, 6], [7, 8, 9]]\n",
    "mat_01 = [[1, 0, 0], [0, 1, 0], [0, 0, 1]]\n",
    "\n",
    "## Write your solution here:\n"
   ]
  },
  {
   "cell_type": "markdown",
   "metadata": {},
   "source": [
    "### 3.12 Matrix-Matrix Multiplication\n",
    "\n",
    "Consider the following two matrices\n",
    "\n",
    "```\n",
    "mat_00 = [[2, 1, 3], [1, 1, 2]]\n",
    "```\n",
    "and\n",
    "```\n",
    "A = [[1, 2], [5, 6], [7, 9]]\n",
    "```\n",
    "\n",
    "Compute the matrix multiplication, i.e.:\n",
    "```\n",
    "B = [[28 37] [20 26]]\n",
    "```\n",
    "\n"
   ]
  },
  {
   "cell_type": "code",
   "execution_count": 28,
   "metadata": {},
   "outputs": [],
   "source": [
    "A = [[2, 1, 3], [1, 1, 2]]\n",
    "B = [[1, 2], [5, 6], [7, 9]]\n",
    "\n",
    "# Write your solution here\n"
   ]
  },
  {
   "cell_type": "markdown",
   "metadata": {},
   "source": [
    "### 3.13 Dict comprehension\n",
    "\n",
    "Consider these four lists:\n",
    "```\n",
    "fellowship_names = ['gandalf', 'frodo', 'samwise', 'merry', 'aragorn', 'legolas', 'boromir', 'gimli', 'pippin']\n",
    "```\n",
    "```\n",
    "fellowship_surnames = [\n",
    "    'mithrandir', 'baggins', 'gamgee', 'brandybuck', 'elessar', \n",
    "    'greenleaf', 'son of denethor', 'son of gloin', 'took'\n",
    "]\n",
    "```\n",
    "```\n",
    "fellowship_species = ['maia', 'hobbit', 'hobbit', 'hobbit', 'man', 'elf', 'man', 'dwarf', 'hobbit']\n",
    "```\n",
    "```\n",
    "fellowship_ages = [inf, 51, 36, 37, 88, 800, 41, 140, 29]\n",
    "```\n",
    "\n",
    "1) Produce a dictionary with the mapping `fellowship_name` -> `fellowship_age`, pairing each element with the same index in the two lists\n",
    "\n",
    "2) Produce a dictionary with the mapping `(fellowship_name, fellowship_surname)` -> `fellowship_species`, pairing each element with the same index in the three lists"
   ]
  },
  {
   "cell_type": "code",
   "execution_count": 29,
   "metadata": {},
   "outputs": [],
   "source": [
    "from math import inf\n",
    "\n",
    "fellowship_names = ['gandalf', 'frodo', 'samwise', 'merry', 'aragorn', \n",
    "                    'legolas', 'boromir', 'gimli', 'pippin']\n",
    "fellowship_surnames = [\n",
    "    'mithrandir', 'baggins', 'gamgee', 'brandybuck', 'elessar', \n",
    "    'greenleaf', 'son of denethor', 'son of gloin', 'took'\n",
    "]\n",
    "fellowship_species = ['maia', 'hobbit', 'hobbit', 'hobbit', 'man', 'elf', 'man', 'dwarf', 'hobbit']\n",
    "\n",
    "fellowship_ages = [inf, 51, 36, 37, 88, 800, 41, 140, 29]\n",
    "\n",
    "# Write your solution here\n"
   ]
  },
  {
   "cell_type": "code",
   "execution_count": null,
   "metadata": {},
   "outputs": [],
   "source": []
  }
 ],
 "metadata": {
  "kernelspec": {
   "display_name": "Python 3",
   "language": "python",
   "name": "python3"
  },
  "language_info": {
   "codemirror_mode": {
    "name": "ipython",
    "version": 3
   },
   "file_extension": ".py",
   "mimetype": "text/x-python",
   "name": "python",
   "nbconvert_exporter": "python",
   "pygments_lexer": "ipython3",
   "version": "3.12.7"
  }
 },
 "nbformat": 4,
 "nbformat_minor": 2
}
